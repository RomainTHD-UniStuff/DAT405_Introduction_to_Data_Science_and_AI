{
 "cells": [
  {
   "cell_type": "markdown",
   "source": "## Group 25 \n### Olof Sjögren\n### Romain Theodet",
   "metadata": {
    "cell_id": "267d3c7b-219d-4c71-a103-e1f6935066ba",
    "tags": [],
    "deepnote_cell_type": "markdown"
   }
  },
  {
   "cell_type": "markdown",
   "source": "# Question 1\n## a)\n\nThe data was retrieved from: \nhttps://ourworldindata.org/grapher/life-expectancy-vs-gdp-per-capita\n\nThe plot is using the data for the year 2018 and rows containing missing values have been filtered out. The final amount of rows (countries) was 167. Compared to the 195 countries in the world we conclude the table is a reasonable representation. We use 2018 since it's the moste recent complete data available.\n\nGDP per capita is measured in 2011 international dollars, which corrects for inflation and cross-country price differences.\n\nNOTE: The axis denoting GDP is plot logarithmic using base 10 to account for a minority of countries with extremly high GDP, thus making the graph hard to read as a lot of the other scatter points blend together.",
   "metadata": {
    "cell_id": "62a5a6f2-f64a-4531-aa03-d8ba6aa93c6b",
    "tags": [],
    "deepnote_cell_type": "markdown"
   }
  },
  {
   "cell_type": "code",
   "metadata": {
    "tags": [],
    "cell_id": "11177646-2fa5-460c-8832-b730743fce5c",
    "deepnote_to_be_reexecuted": false,
    "source_hash": "4d5224ba",
    "execution_start": 1642752214541,
    "execution_millis": 1544,
    "deepnote_output_heights": [
     310
    ],
    "deepnote_cell_type": "code"
   },
   "source": "import matplotlib\nimport pandas as pd\nimport matplotlib.pyplot as plt\nimport numpy as np\n\nentityCol = \"Entity\"\nyearCol = \"Year\"\npopulationCol = \"Population (historical estimates)\"\nlifeCol = \"Life expectancy\"\nGDPCol = \"GDP per capita\"\n\ntable = pd.read_csv(\"./life-expectancy-vs-gdp-per-capita.csv\")\ntable = table[[entityCol, yearCol, populationCol, lifeCol, GDPCol]]\n\n# 306 \"countries\" at first : this include micronations, continents and other edge-cases\n\n# Only select rows for the year 2018\nis2018 = table[yearCol] == 2018\ntable = table[is2018]\n\n# Remove all rows with 'nan' values, i.e. inclomplete rows\ntable = table.dropna()\n\n# We can also remove the year column since we know all are for year 2018.\n# We also delete the entry for the world as it is not a country.\ndel table[yearCol]\ntable = table.set_index(entityCol)\ntable = table.drop(\"World\")\n\ntable[GDPCol] = np.log10(table[GDPCol])\n\n# len(table) == 166\n# There are 195 countries in the world, so while we dropped some,\n# we still keep around 85% of the world\n\nxValues = table[GDPCol]\nyValues = table[lifeCol]\nplt.title(\"GDP per capita vs life expectancy (2018)\")\nplt.xlabel(\"GDP per capita in USD, logarithmic with base 10\")\nplt.ylabel(\"Life expectancy, in years\")\nplt.scatter(xValues, yValues)\nplt.show()\n",
   "execution_count": 1,
   "outputs": [
    {
     "data": {
      "text/plain": "<Figure size 432x288 with 1 Axes>",
      "image/png": "[encoded data removed]"
     },
     "metadata": {
      "needs_background": "light",
      "image/png": {
       "width": 382,
       "height": 278
      }
     },
     "output_type": "display_data"
    }
   ]
  },
  {
   "cell_type": "markdown",
   "source": "## b)\nThe results you can see above seems reasonable.\nWe can see that the GDP of each country seems correlated to its life expectancy.\n\nA logical explaination might be that people in poor countries don't live as long as in rich countries, because of political instabilities, food and water shortage, and access to healthcare. \n\n## c)\n\nWe did a data cleaning, as some countries were missing some informations. First of all we removed any rows with missing entries. It probably also helped us remove data points which aren't actually countries such as continents and small city-states, since the original dataset counted 306 entities. \n\nWe also only kept the year 2018,to keep the plot more clear and have the same temporal references.\n\nThe columns we kept are `Entity` (the country name), `Year`, `Population`, `Life expectancy` and `GDP per capita`. We removed excess columns such as `Country Code` and `Continent`.\n\n## d)\nThe calculated table below shows the countries with a life expectancy higher than one standard deviation above the mean.",
   "metadata": {
    "cell_id": "6ca916bd-7e7f-4caf-b899-bcea16958ebe",
    "tags": [],
    "deepnote_cell_type": "markdown"
   }
  },
  {
   "cell_type": "code",
   "metadata": {
    "cell_id": "bee0ac92-de4f-4025-b253-8ac5f388b06f",
    "tags": [],
    "deepnote_to_be_reexecuted": false,
    "source_hash": "7e89ce78",
    "execution_start": 1642752216088,
    "execution_millis": 66,
    "deepnote_output_heights": [
     21.1875
    ],
    "deepnote_table_state": {
     "pageSize": 10,
     "pageIndex": 0,
     "filters": [],
     "sortBy": []
    },
    "deepnote_table_loading": false,
    "deepnote_cell_type": "code"
   },
   "source": "deviationLife = np.std(table[lifeCol])\nmeanLife = np.mean(table[lifeCol])\ndeviationGDP = np.std(table[GDPCol])\nmeanGDP = np.mean(table[GDPCol])\n\nrowsAbove = table[ table[lifeCol] > meanLife + deviationLife ]\ndel rowsAbove[populationCol]\n\nprint(\"Countries with a life expectancy higher than one standard deviation above the mean :\")\nrowsAbove",
   "execution_count": 2,
   "outputs": [
    {
     "name": "stdout",
     "text": "Countries with a life expectancy higher than one standard deviation above the mean :\n",
     "output_type": "stream"
    },
    {
     "output_type": "execute_result",
     "execution_count": 2,
     "data": {
      "application/vnd.deepnote.dataframe.v3+json": {
       "column_count": 2,
       "row_count": 29,
       "columns": [
        {
         "name": "Life expectancy",
         "dtype": "float64",
         "stats": {
          "unique_count": 29,
          "nan_count": 0,
          "min": "80.784",
          "max": "84.687",
          "histogram": [
           {
            "bin_start": 80.784,
            "bin_end": 81.1743,
            "count": 3
           },
           {
            "bin_start": 81.1743,
            "bin_end": 81.5646,
            "count": 4
           },
           {
            "bin_start": 81.5646,
            "bin_end": 81.95490000000001,
            "count": 2
           },
           {
            "bin_start": 81.95490000000001,
            "bin_end": 82.3452,
            "count": 7
           },
           {
            "bin_start": 82.3452,
            "bin_end": 82.7355,
            "count": 3
           },
           {
            "bin_start": 82.7355,
            "bin_end": 83.1258,
            "count": 3
           },
           {
            "bin_start": 83.1258,
            "bin_end": 83.5161,
            "count": 4
           },
           {
            "bin_start": 83.5161,
            "bin_end": 83.9064,
            "count": 1
           },
           {
            "bin_start": 83.9064,
            "bin_end": 84.2967,
            "count": 0
           },
           {
            "bin_start": 84.2967,
            "bin_end": 84.687,
            "count": 2
           }
          ]
         }
        },
        {
         "name": "GDP per capita",
         "dtype": "float64",
         "stats": {
          "unique_count": 29,
          "nan_count": 0,
          "min": "4.370157029451265",
          "max": "4.927268380158964",
          "histogram": [
           {
            "bin_start": 4.370157029451265,
            "bin_end": 4.4258681645220355,
            "count": 1
           },
           {
            "bin_start": 4.4258681645220355,
            "bin_end": 4.481579299592805,
            "count": 3
           },
           {
            "bin_start": 4.481579299592805,
            "bin_end": 4.537290434663575,
            "count": 4
           },
           {
            "bin_start": 4.537290434663575,
            "bin_end": 4.593001569734344,
            "count": 6
           },
           {
            "bin_start": 4.593001569734344,
            "bin_end": 4.6487127048051144,
            "count": 3
           },
           {
            "bin_start": 4.6487127048051144,
            "bin_end": 4.704423839875885,
            "count": 6
           },
           {
            "bin_start": 4.704423839875885,
            "bin_end": 4.760134974946654,
            "count": 2
           },
           {
            "bin_start": 4.760134974946654,
            "bin_end": 4.815846110017424,
            "count": 2
           },
           {
            "bin_start": 4.815846110017424,
            "bin_end": 4.871557245088193,
            "count": 1
           },
           {
            "bin_start": 4.871557245088193,
            "bin_end": 4.927268380158964,
            "count": 1
           }
          ]
         }
        },
        {
         "name": "_deepnote_index_column",
         "dtype": "object"
        }
       ],
       "rows": [
        {
         "Life expectancy": 83.281,
         "GDP per capita": 4.697497853432251,
         "_deepnote_index_column": "Australia"
        },
        {
         "Life expectancy": 81.434,
         "GDP per capita": 4.633347956485164,
         "_deepnote_index_column": "Austria"
        },
        {
         "Life expectancy": 81.468,
         "GDP per capita": 4.5994049005880004,
         "_deepnote_index_column": "Belgium"
        },
        {
         "Life expectancy": 82.315,
         "GDP per capita": 4.651943907762243,
         "_deepnote_index_column": "Canada"
        },
        {
         "Life expectancy": 80.828,
         "GDP per capita": 4.434320017119982,
         "_deepnote_index_column": "Cyprus"
        },
        {
         "Life expectancy": 80.784,
         "GDP per capita": 4.6656967652475165,
         "_deepnote_index_column": "Denmark"
        },
        {
         "Life expectancy": 81.736,
         "GDP per capita": 4.589912762883083,
         "_deepnote_index_column": "Finland"
        },
        {
         "Life expectancy": 82.541,
         "GDP per capita": 4.585640268084605,
         "_deepnote_index_column": "France"
        },
        {
         "Life expectancy": 81.18,
         "GDP per capita": 4.664431533342637,
         "_deepnote_index_column": "Germany"
        },
        {
         "Life expectancy": 82.072,
         "GDP per capita": 4.370157029451265,
         "_deepnote_index_column": "Greece"
        }
       ]
      },
      "text/plain": "                Life expectancy  GDP per capita\nEntity                                         \nAustralia                83.281        4.697498\nAustria                  81.434        4.633348\nBelgium                  81.468        4.599405\nCanada                   82.315        4.651944\nCyprus                   80.828        4.434320\nDenmark                  80.784        4.665697\nFinland                  81.736        4.589913\nFrance                   82.541        4.585640\nGermany                  81.180        4.664432\nGreece                   82.072        4.370157\nHong Kong                84.687        4.706200\nIceland                  82.855        4.637875\nIreland                  82.103        4.810799\nIsrael                   82.819        4.517918\nItaly                    83.352        4.536106\nJapan                    84.470        4.587417\nLuxembourg               82.102        4.759120\nMalta                    82.376        4.505542\nNetherlands              82.143        4.676457\nNew Zealand              82.145        4.548219\nNorway                   82.271        4.927268\nPortugal                 81.857        4.431936\nSingapore                83.458        4.835071\nSlovenia                 81.172        4.466050\nSouth Korea              82.846        4.578955\nSpain                    83.433        4.498263\nSweden                   82.654        4.658411\nSwitzerland              83.630        4.787975\nUnited Kingdom           81.236        4.580447",
      "text/html": "<div>\n<style scoped>\n    .dataframe tbody tr th:only-of-type {\n        vertical-align: middle;\n    }\n\n    .dataframe tbody tr th {\n        vertical-align: top;\n    }\n\n    .dataframe thead th {\n        text-align: right;\n    }\n</style>\n<table border=\"1\" class=\"dataframe\">\n  <thead>\n    <tr style=\"text-align: right;\">\n      <th></th>\n      <th>Life expectancy</th>\n      <th>GDP per capita</th>\n    </tr>\n    <tr>\n      <th>Entity</th>\n      <th></th>\n      <th></th>\n    </tr>\n  </thead>\n  <tbody>\n    <tr>\n      <th>Australia</th>\n      <td>83.281</td>\n      <td>4.697498</td>\n    </tr>\n    <tr>\n      <th>Austria</th>\n      <td>81.434</td>\n      <td>4.633348</td>\n    </tr>\n    <tr>\n      <th>Belgium</th>\n      <td>81.468</td>\n      <td>4.599405</td>\n    </tr>\n    <tr>\n      <th>Canada</th>\n      <td>82.315</td>\n      <td>4.651944</td>\n    </tr>\n    <tr>\n      <th>Cyprus</th>\n      <td>80.828</td>\n      <td>4.434320</td>\n    </tr>\n    <tr>\n      <th>Denmark</th>\n      <td>80.784</td>\n      <td>4.665697</td>\n    </tr>\n    <tr>\n      <th>Finland</th>\n      <td>81.736</td>\n      <td>4.589913</td>\n    </tr>\n    <tr>\n      <th>France</th>\n      <td>82.541</td>\n      <td>4.585640</td>\n    </tr>\n    <tr>\n      <th>Germany</th>\n      <td>81.180</td>\n      <td>4.664432</td>\n    </tr>\n    <tr>\n      <th>Greece</th>\n      <td>82.072</td>\n      <td>4.370157</td>\n    </tr>\n    <tr>\n      <th>Hong Kong</th>\n      <td>84.687</td>\n      <td>4.706200</td>\n    </tr>\n    <tr>\n      <th>Iceland</th>\n      <td>82.855</td>\n      <td>4.637875</td>\n    </tr>\n    <tr>\n      <th>Ireland</th>\n      <td>82.103</td>\n      <td>4.810799</td>\n    </tr>\n    <tr>\n      <th>Israel</th>\n      <td>82.819</td>\n      <td>4.517918</td>\n    </tr>\n    <tr>\n      <th>Italy</th>\n      <td>83.352</td>\n      <td>4.536106</td>\n    </tr>\n    <tr>\n      <th>Japan</th>\n      <td>84.470</td>\n      <td>4.587417</td>\n    </tr>\n    <tr>\n      <th>Luxembourg</th>\n      <td>82.102</td>\n      <td>4.759120</td>\n    </tr>\n    <tr>\n      <th>Malta</th>\n      <td>82.376</td>\n      <td>4.505542</td>\n    </tr>\n    <tr>\n      <th>Netherlands</th>\n      <td>82.143</td>\n      <td>4.676457</td>\n    </tr>\n    <tr>\n      <th>New Zealand</th>\n      <td>82.145</td>\n      <td>4.548219</td>\n    </tr>\n    <tr>\n      <th>Norway</th>\n      <td>82.271</td>\n      <td>4.927268</td>\n    </tr>\n    <tr>\n      <th>Portugal</th>\n      <td>81.857</td>\n      <td>4.431936</td>\n    </tr>\n    <tr>\n      <th>Singapore</th>\n      <td>83.458</td>\n      <td>4.835071</td>\n    </tr>\n    <tr>\n      <th>Slovenia</th>\n      <td>81.172</td>\n      <td>4.466050</td>\n    </tr>\n    <tr>\n      <th>South Korea</th>\n      <td>82.846</td>\n      <td>4.578955</td>\n    </tr>\n    <tr>\n      <th>Spain</th>\n      <td>83.433</td>\n      <td>4.498263</td>\n    </tr>\n    <tr>\n      <th>Sweden</th>\n      <td>82.654</td>\n      <td>4.658411</td>\n    </tr>\n    <tr>\n      <th>Switzerland</th>\n      <td>83.630</td>\n      <td>4.787975</td>\n    </tr>\n    <tr>\n      <th>United Kingdom</th>\n      <td>81.236</td>\n      <td>4.580447</td>\n    </tr>\n  </tbody>\n</table>\n</div>"
     },
     "metadata": {}
    }
   ]
  },
  {
   "cell_type": "markdown",
   "source": "## e)\nThe result is based on the assumption that a high life expectancy is any life expectancy higher than average, plus a small bias, which is a quarter of a standard deviation. This bias is to filter countries just above average, to get a better sample. \\\nSubsequently a low GDP per capita is any GDP per capita lower than average, minus a bias.\n\nThe table below shows countries with a high life expectancy and a low GDP per capita.",
   "metadata": {
    "cell_id": "d101f148-b0f8-467a-8dfa-2f823bf6a570",
    "tags": [],
    "deepnote_cell_type": "markdown"
   }
  },
  {
   "cell_type": "code",
   "metadata": {
    "cell_id": "6dfcea37-92ce-49b7-a354-20f9df6828e8",
    "tags": [],
    "deepnote_to_be_reexecuted": false,
    "source_hash": "3b09ca0e",
    "execution_start": 1642752216186,
    "execution_millis": 2,
    "deepnote_table_state": {
     "pageSize": 10,
     "pageIndex": 0,
     "filters": [],
     "sortBy": []
    },
    "deepnote_table_loading": false,
    "deepnote_cell_type": "code"
   },
   "source": "rowsBelowAverage = table[ (table[lifeCol] > meanLife + deviationLife / 4) & (table[GDPCol] < meanGDP - deviationGDP / 4) ]\ndel rowsBelowAverage[populationCol]\n\nprint(\"Countries with a high life expectancy but a low GDP per capita :\")\nrowsBelowAverage\n",
   "execution_count": 3,
   "outputs": [
    {
     "name": "stdout",
     "text": "Countries with a high life expectancy but a low GDP per capita :\n",
     "output_type": "stream"
    },
    {
     "output_type": "execute_result",
     "execution_count": 3,
     "data": {
      "application/vnd.deepnote.dataframe.v3+json": {
       "column_count": 2,
       "row_count": 2,
       "columns": [
        {
         "name": "Life expectancy",
         "dtype": "float64",
         "stats": {
          "unique_count": 2,
          "nan_count": 0,
          "min": "75.088",
          "max": "75.317",
          "histogram": [
           {
            "bin_start": 75.088,
            "bin_end": 75.11089999999999,
            "count": 1
           },
           {
            "bin_start": 75.11089999999999,
            "bin_end": 75.1338,
            "count": 0
           },
           {
            "bin_start": 75.1338,
            "bin_end": 75.1567,
            "count": 0
           },
           {
            "bin_start": 75.1567,
            "bin_end": 75.1796,
            "count": 0
           },
           {
            "bin_start": 75.1796,
            "bin_end": 75.20249999999999,
            "count": 0
           },
           {
            "bin_start": 75.20249999999999,
            "bin_end": 75.2254,
            "count": 0
           },
           {
            "bin_start": 75.2254,
            "bin_end": 75.2483,
            "count": 0
           },
           {
            "bin_start": 75.2483,
            "bin_end": 75.2712,
            "count": 0
           },
           {
            "bin_start": 75.2712,
            "bin_end": 75.29409999999999,
            "count": 0
           },
           {
            "bin_start": 75.29409999999999,
            "bin_end": 75.317,
            "count": 1
           }
          ]
         }
        },
        {
         "name": "GDP per capita",
         "dtype": "float64",
         "stats": {
          "unique_count": 2,
          "nan_count": 0,
          "min": "3.7025714352528625",
          "max": "3.8334111987151993",
          "histogram": [
           {
            "bin_start": 3.7025714352528625,
            "bin_end": 3.715655411599096,
            "count": 1
           },
           {
            "bin_start": 3.715655411599096,
            "bin_end": 3.7287393879453297,
            "count": 0
           },
           {
            "bin_start": 3.7287393879453297,
            "bin_end": 3.7418233642915637,
            "count": 0
           },
           {
            "bin_start": 3.7418233642915637,
            "bin_end": 3.7549073406377973,
            "count": 0
           },
           {
            "bin_start": 3.7549073406377973,
            "bin_end": 3.767991316984031,
            "count": 0
           },
           {
            "bin_start": 3.767991316984031,
            "bin_end": 3.7810752933302645,
            "count": 0
           },
           {
            "bin_start": 3.7810752933302645,
            "bin_end": 3.794159269676498,
            "count": 0
           },
           {
            "bin_start": 3.794159269676498,
            "bin_end": 3.807243246022732,
            "count": 0
           },
           {
            "bin_start": 3.807243246022732,
            "bin_end": 3.8203272223689657,
            "count": 0
           },
           {
            "bin_start": 3.8203272223689657,
            "bin_end": 3.8334111987151993,
            "count": 1
           }
          ]
         }
        },
        {
         "name": "_deepnote_index_column",
         "dtype": "object"
        }
       ],
       "rows": [
        {
         "Life expectancy": 75.088,
         "GDP per capita": 3.7025714352528625,
         "_deepnote_index_column": "Honduras"
        },
        {
         "Life expectancy": 75.317,
         "GDP per capita": 3.8334111987151993,
         "_deepnote_index_column": "Vietnam"
        }
       ]
      },
      "text/plain": "          Life expectancy  GDP per capita\nEntity                                   \nHonduras           75.088        3.702571\nVietnam            75.317        3.833411",
      "text/html": "<div>\n<style scoped>\n    .dataframe tbody tr th:only-of-type {\n        vertical-align: middle;\n    }\n\n    .dataframe tbody tr th {\n        vertical-align: top;\n    }\n\n    .dataframe thead th {\n        text-align: right;\n    }\n</style>\n<table border=\"1\" class=\"dataframe\">\n  <thead>\n    <tr style=\"text-align: right;\">\n      <th></th>\n      <th>Life expectancy</th>\n      <th>GDP per capita</th>\n    </tr>\n    <tr>\n      <th>Entity</th>\n      <th></th>\n      <th></th>\n    </tr>\n  </thead>\n  <tbody>\n    <tr>\n      <th>Honduras</th>\n      <td>75.088</td>\n      <td>3.702571</td>\n    </tr>\n    <tr>\n      <th>Vietnam</th>\n      <td>75.317</td>\n      <td>3.833411</td>\n    </tr>\n  </tbody>\n</table>\n</div>"
     },
     "metadata": {}
    }
   ]
  },
  {
   "cell_type": "markdown",
   "source": "## f)\nWe consider a strong economy to be a country with a total GDP higher than one standard deviation above the mean.\nWe are searching for any of these countries which have a lower than average life expectancy.\n\nThe bias is higher than above (a full standard deviation), since an \"above-average\" country shouldn't count as a rich country.",
   "metadata": {
    "cell_id": "2df6bac7-7043-40e7-9043-e8e437e658fc",
    "tags": [],
    "deepnote_cell_type": "markdown"
   }
  },
  {
   "cell_type": "code",
   "metadata": {
    "cell_id": "a2fb9c57-4a7d-4329-912e-51a4abbf65a3",
    "tags": [],
    "deepnote_to_be_reexecuted": false,
    "source_hash": "b04686df",
    "execution_start": 1642752216188,
    "execution_millis": 45,
    "deepnote_cell_type": "code"
   },
   "source": "deviationTotalGDP = np.std(table[GDPCol] * table[populationCol])\nmeanTotalGDP = np.mean(table[GDPCol] * table[populationCol])\nrowsBelowAverage = table[ (table[lifeCol] < meanLife) & (table[GDPCol] * table[populationCol] > meanTotalGDP + deviationTotalGDP) ]\n\nprint(\"Countries with a low life expectancy but a high total GDP :\")\nrowsBelowAverage",
   "execution_count": 4,
   "outputs": [
    {
     "name": "stdout",
     "text": "Countries with a low life expectancy but a high total GDP :\n",
     "output_type": "stream"
    },
    {
     "output_type": "execute_result",
     "execution_count": 4,
     "data": {
      "application/vnd.deepnote.dataframe.v3+json": {
       "column_count": 3,
       "row_count": 2,
       "columns": [
        {
         "name": "Population (historical estimates)",
         "dtype": "float64",
         "stats": {
          "unique_count": 2,
          "nan_count": 0,
          "min": "267670549.0",
          "max": "1352642283.0",
          "histogram": [
           {
            "bin_start": 267670549,
            "bin_end": 376167722.4,
            "count": 1
           },
           {
            "bin_start": 376167722.4,
            "bin_end": 484664895.8,
            "count": 0
           },
           {
            "bin_start": 484664895.8,
            "bin_end": 593162069.2,
            "count": 0
           },
           {
            "bin_start": 593162069.2,
            "bin_end": 701659242.6,
            "count": 0
           },
           {
            "bin_start": 701659242.6,
            "bin_end": 810156416,
            "count": 0
           },
           {
            "bin_start": 810156416,
            "bin_end": 918653589.4000001,
            "count": 0
           },
           {
            "bin_start": 918653589.4000001,
            "bin_end": 1027150762.8000001,
            "count": 0
           },
           {
            "bin_start": 1027150762.8000001,
            "bin_end": 1135647936.2,
            "count": 0
           },
           {
            "bin_start": 1135647936.2,
            "bin_end": 1244145109.6,
            "count": 0
           },
           {
            "bin_start": 1244145109.6,
            "bin_end": 1352642283,
            "count": 1
           }
          ]
         }
        },
        {
         "name": "Life expectancy",
         "dtype": "float64",
         "stats": {
          "unique_count": 2,
          "nan_count": 0,
          "min": "69.416",
          "max": "71.509",
          "histogram": [
           {
            "bin_start": 69.416,
            "bin_end": 69.6253,
            "count": 1
           },
           {
            "bin_start": 69.6253,
            "bin_end": 69.8346,
            "count": 0
           },
           {
            "bin_start": 69.8346,
            "bin_end": 70.0439,
            "count": 0
           },
           {
            "bin_start": 70.0439,
            "bin_end": 70.25319999999999,
            "count": 0
           },
           {
            "bin_start": 70.25319999999999,
            "bin_end": 70.4625,
            "count": 0
           },
           {
            "bin_start": 70.4625,
            "bin_end": 70.6718,
            "count": 0
           },
           {
            "bin_start": 70.6718,
            "bin_end": 70.8811,
            "count": 0
           },
           {
            "bin_start": 70.8811,
            "bin_end": 71.0904,
            "count": 0
           },
           {
            "bin_start": 71.0904,
            "bin_end": 71.2997,
            "count": 0
           },
           {
            "bin_start": 71.2997,
            "bin_end": 71.509,
            "count": 1
           }
          ]
         }
        },
        {
         "name": "GDP per capita",
         "dtype": "float64",
         "stats": {
          "unique_count": 2,
          "nan_count": 0,
          "min": "3.832923759525784",
          "max": "4.073782012884354",
          "histogram": [
           {
            "bin_start": 3.832923759525784,
            "bin_end": 3.857009584861641,
            "count": 1
           },
           {
            "bin_start": 3.857009584861641,
            "bin_end": 3.881095410197498,
            "count": 0
           },
           {
            "bin_start": 3.881095410197498,
            "bin_end": 3.905181235533355,
            "count": 0
           },
           {
            "bin_start": 3.905181235533355,
            "bin_end": 3.9292670608692117,
            "count": 0
           },
           {
            "bin_start": 3.9292670608692117,
            "bin_end": 3.953352886205069,
            "count": 0
           },
           {
            "bin_start": 3.953352886205069,
            "bin_end": 3.977438711540926,
            "count": 0
           },
           {
            "bin_start": 3.977438711540926,
            "bin_end": 4.001524536876783,
            "count": 0
           },
           {
            "bin_start": 4.001524536876783,
            "bin_end": 4.02561036221264,
            "count": 0
           },
           {
            "bin_start": 4.02561036221264,
            "bin_end": 4.049696187548497,
            "count": 0
           },
           {
            "bin_start": 4.049696187548497,
            "bin_end": 4.073782012884354,
            "count": 1
           }
          ]
         }
        },
        {
         "name": "_deepnote_index_column",
         "dtype": "object"
        }
       ],
       "rows": [
        {
         "Population (historical estimates)": 1352642283,
         "Life expectancy": 69.416,
         "GDP per capita": 3.832923759525784,
         "_deepnote_index_column": "India"
        },
        {
         "Population (historical estimates)": 267670549,
         "Life expectancy": 71.509,
         "GDP per capita": 4.073782012884354,
         "_deepnote_index_column": "Indonesia"
        }
       ]
      },
      "text/plain": "           Population (historical estimates)  Life expectancy  GDP per capita\nEntity                                                                       \nIndia                           1.352642e+09           69.416        3.832924\nIndonesia                       2.676705e+08           71.509        4.073782",
      "text/html": "<div>\n<style scoped>\n    .dataframe tbody tr th:only-of-type {\n        vertical-align: middle;\n    }\n\n    .dataframe tbody tr th {\n        vertical-align: top;\n    }\n\n    .dataframe thead th {\n        text-align: right;\n    }\n</style>\n<table border=\"1\" class=\"dataframe\">\n  <thead>\n    <tr style=\"text-align: right;\">\n      <th></th>\n      <th>Population (historical estimates)</th>\n      <th>Life expectancy</th>\n      <th>GDP per capita</th>\n    </tr>\n    <tr>\n      <th>Entity</th>\n      <th></th>\n      <th></th>\n      <th></th>\n    </tr>\n  </thead>\n  <tbody>\n    <tr>\n      <th>India</th>\n      <td>1.352642e+09</td>\n      <td>69.416</td>\n      <td>3.832924</td>\n    </tr>\n    <tr>\n      <th>Indonesia</th>\n      <td>2.676705e+08</td>\n      <td>71.509</td>\n      <td>4.073782</td>\n    </tr>\n  </tbody>\n</table>\n</div>"
     },
     "metadata": {}
    }
   ]
  },
  {
   "cell_type": "markdown",
   "source": "## g)\n\nWe used a slightly different formula as above, where the bias is now a third of a standard deviation, and with the GDP per capita instead of the total GDP.\nThe table below shows the countries fulfilling this criteria. We use the slightly different bias due to the distribution of the data.\n\nWe can notice that the \"socially poor\" countries with a high total GDP are not the same as those with a high GDP per capita.\nWe could explain this by seeing that the countries above have a really high population, so while the countries are rich the money doesn't really flow to the people, which explains these difference. \\\nThe same phenomenon might explain the list below, the only difference being they don't have as many people as above.\n",
   "metadata": {
    "cell_id": "b906ed2c-802b-479e-a4dd-898e5b899e32",
    "tags": [],
    "deepnote_cell_type": "markdown"
   }
  },
  {
   "cell_type": "code",
   "metadata": {
    "cell_id": "2f9b65e8-0fbf-452c-be9d-200bc839f555",
    "tags": [],
    "deepnote_to_be_reexecuted": false,
    "source_hash": "5fba60cd",
    "execution_start": 1642752216242,
    "execution_millis": 51,
    "deepnote_cell_type": "code"
   },
   "source": "rowsBelowAverage = table[ (table[lifeCol] < meanLife) & (table[GDPCol] > meanGDP + deviationGDP / 3) ]\n\nprint(\"Countries with a low life expectancy but a high GDP per capita :\")\nrowsBelowAverage",
   "execution_count": 5,
   "outputs": [
    {
     "name": "stdout",
     "text": "Countries with a low life expectancy but a high GDP per capita :\n",
     "output_type": "stream"
    },
    {
     "output_type": "execute_result",
     "execution_count": 5,
     "data": {
      "application/vnd.deepnote.dataframe.v3+json": {
       "column_count": 3,
       "row_count": 5,
       "columns": [
        {
         "name": "Population (historical estimates)",
         "dtype": "float64",
         "stats": {
          "unique_count": 5,
          "nan_count": 0,
          "min": "1308966.0",
          "max": "145734034.0",
          "histogram": [
           {
            "bin_start": 1308966,
            "bin_end": 15751472.8,
            "count": 4
           },
           {
            "bin_start": 15751472.8,
            "bin_end": 30193979.6,
            "count": 0
           },
           {
            "bin_start": 30193979.6,
            "bin_end": 44636486.400000006,
            "count": 0
           },
           {
            "bin_start": 44636486.400000006,
            "bin_end": 59078993.2,
            "count": 0
           },
           {
            "bin_start": 59078993.2,
            "bin_end": 73521500,
            "count": 0
           },
           {
            "bin_start": 73521500,
            "bin_end": 87964006.80000001,
            "count": 0
           },
           {
            "bin_start": 87964006.80000001,
            "bin_end": 102406513.60000001,
            "count": 0
           },
           {
            "bin_start": 102406513.60000001,
            "bin_end": 116849020.4,
            "count": 0
           },
           {
            "bin_start": 116849020.4,
            "bin_end": 131291527.2,
            "count": 0
           },
           {
            "bin_start": 131291527.2,
            "bin_end": 145734034,
            "count": 1
           }
          ]
         }
        },
        {
         "name": "Life expectancy",
         "dtype": "float64",
         "stats": {
          "unique_count": 5,
          "nan_count": 0,
          "min": "58.402",
          "max": "72.386",
          "histogram": [
           {
            "bin_start": 58.402,
            "bin_end": 59.8004,
            "count": 1
           },
           {
            "bin_start": 59.8004,
            "bin_end": 61.1988,
            "count": 0
           },
           {
            "bin_start": 61.1988,
            "bin_end": 62.5972,
            "count": 0
           },
           {
            "bin_start": 62.5972,
            "bin_end": 63.995599999999996,
            "count": 0
           },
           {
            "bin_start": 63.995599999999996,
            "bin_end": 65.394,
            "count": 0
           },
           {
            "bin_start": 65.394,
            "bin_end": 66.7924,
            "count": 1
           },
           {
            "bin_start": 66.7924,
            "bin_end": 68.1908,
            "count": 1
           },
           {
            "bin_start": 68.1908,
            "bin_end": 69.58919999999999,
            "count": 1
           },
           {
            "bin_start": 69.58919999999999,
            "bin_end": 70.9876,
            "count": 0
           },
           {
            "bin_start": 70.9876,
            "bin_end": 72.386,
            "count": 1
           }
          ]
         }
        },
        {
         "name": "GDP per capita",
         "dtype": "float64",
         "stats": {
          "unique_count": 5,
          "nan_count": 0,
          "min": "4.1998135755161154",
          "max": "4.4552858335334795",
          "histogram": [
           {
            "bin_start": 4.1998135755161154,
            "bin_end": 4.225360801317851,
            "count": 1
           },
           {
            "bin_start": 4.225360801317851,
            "bin_end": 4.250908027119588,
            "count": 1
           },
           {
            "bin_start": 4.250908027119588,
            "bin_end": 4.276455252921325,
            "count": 0
           },
           {
            "bin_start": 4.276455252921325,
            "bin_end": 4.302002478723061,
            "count": 0
           },
           {
            "bin_start": 4.302002478723061,
            "bin_end": 4.327549704524797,
            "count": 0
           },
           {
            "bin_start": 4.327549704524797,
            "bin_end": 4.353096930326534,
            "count": 0
           },
           {
            "bin_start": 4.353096930326534,
            "bin_end": 4.378644156128271,
            "count": 0
           },
           {
            "bin_start": 4.378644156128271,
            "bin_end": 4.404191381930007,
            "count": 1
           },
           {
            "bin_start": 4.404191381930007,
            "bin_end": 4.429738607731743,
            "count": 1
           },
           {
            "bin_start": 4.429738607731743,
            "bin_end": 4.4552858335334795,
            "count": 1
           }
          ]
         }
        },
        {
         "name": "_deepnote_index_column",
         "dtype": "object"
        }
       ],
       "rows": [
        {
         "Population (historical estimates)": 2254067,
         "Life expectancy": 69.275,
         "GDP per capita": 4.1998135755161154,
         "_deepnote_index_column": "Botswana"
        },
        {
         "Population (historical estimates)": 1308966,
         "Life expectancy": 58.402,
         "GDP per capita": 4.4552858335334795,
         "_deepnote_index_column": "Equatorial Guinea"
        },
        {
         "Population (historical estimates)": 2119275,
         "Life expectancy": 66.187,
         "GDP per capita": 4.245847054374738,
         "_deepnote_index_column": "Gabon"
        },
        {
         "Population (historical estimates)": 145734034,
         "Life expectancy": 72.386,
         "GDP per capita": 4.392149923567479,
         "_deepnote_index_column": "Russia"
        },
        {
         "Population (historical estimates)": 5850902,
         "Life expectancy": 68.073,
         "GDP per capita": 4.420258922205892,
         "_deepnote_index_column": "Turkmenistan"
        }
       ]
      },
      "text/plain": "                   Population (historical estimates)  Life expectancy  \\\nEntity                                                                  \nBotswana                                   2254067.0           69.275   \nEquatorial Guinea                          1308966.0           58.402   \nGabon                                      2119275.0           66.187   \nRussia                                   145734034.0           72.386   \nTurkmenistan                               5850902.0           68.073   \n\n                   GDP per capita  \nEntity                             \nBotswana                 4.199814  \nEquatorial Guinea        4.455286  \nGabon                    4.245847  \nRussia                   4.392150  \nTurkmenistan             4.420259  ",
      "text/html": "<div>\n<style scoped>\n    .dataframe tbody tr th:only-of-type {\n        vertical-align: middle;\n    }\n\n    .dataframe tbody tr th {\n        vertical-align: top;\n    }\n\n    .dataframe thead th {\n        text-align: right;\n    }\n</style>\n<table border=\"1\" class=\"dataframe\">\n  <thead>\n    <tr style=\"text-align: right;\">\n      <th></th>\n      <th>Population (historical estimates)</th>\n      <th>Life expectancy</th>\n      <th>GDP per capita</th>\n    </tr>\n    <tr>\n      <th>Entity</th>\n      <th></th>\n      <th></th>\n      <th></th>\n    </tr>\n  </thead>\n  <tbody>\n    <tr>\n      <th>Botswana</th>\n      <td>2254067.0</td>\n      <td>69.275</td>\n      <td>4.199814</td>\n    </tr>\n    <tr>\n      <th>Equatorial Guinea</th>\n      <td>1308966.0</td>\n      <td>58.402</td>\n      <td>4.455286</td>\n    </tr>\n    <tr>\n      <th>Gabon</th>\n      <td>2119275.0</td>\n      <td>66.187</td>\n      <td>4.245847</td>\n    </tr>\n    <tr>\n      <th>Russia</th>\n      <td>145734034.0</td>\n      <td>72.386</td>\n      <td>4.392150</td>\n    </tr>\n    <tr>\n      <th>Turkmenistan</th>\n      <td>5850902.0</td>\n      <td>68.073</td>\n      <td>4.420259</td>\n    </tr>\n  </tbody>\n</table>\n</div>"
     },
     "metadata": {}
    }
   ]
  },
  {
   "cell_type": "markdown",
   "source": "# Question 2\n\n## a)\n\nWe have downloaded data for Corrruption and Happiness. \\\nSome of the questions we are going to investigate are:\n\n* Is corruption correlated to happiness?\n* How has the average GDP per capita of the world developed since 1900?\n* Does happiness and life expectancy share a similiar distribution?\n* Is corruption correlated to GDP?\n\nEach visualization and the data for the visualization is discussed below. Note however that since the gathered data might differ in it's size, i.e. the tables contain data for different years, since some tables will be combined only the data for the matching years will be used. This made us lose some data point as the year is not contained in both tables however the final table was still found to be sufficiently large.\n",
   "metadata": {
    "cell_id": "05fb1222-fc29-49b4-9394-3bc134df1dbe",
    "tags": [],
    "deepnote_cell_type": "markdown"
   }
  },
  {
   "cell_type": "code",
   "metadata": {
    "cell_id": "b6838c56-8af4-4b46-95fe-c43f31c5ded0",
    "tags": [],
    "deepnote_to_be_reexecuted": false,
    "source_hash": "3fed84b1",
    "execution_start": 1642752216299,
    "execution_millis": 37,
    "deepnote_cell_type": "code"
   },
   "source": "lifeGDPTable = table\n\ncorruptionCol = \"Corruption Perception Index - Transparency International (2018)\"\ncorruptionTable = pd.read_csv(\"./corruption.csv\")[[entityCol, yearCol, corruptionCol]]\n\nhappinessCol = \"Life satisfaction in Cantril Ladder (World Happiness Report 2021)\"\nhappinessTable = pd.read_csv(\"./happiness.csv\")[[entityCol, yearCol, happinessCol]]\n\n# Only select rows for the year 2018\ncorruptionTable = corruptionTable[ corruptionTable[yearCol] == 2018 ].dropna()\nhappinessTable = happinessTable[ happinessTable[yearCol] == 2018 ].dropna()\n\ndel corruptionTable[yearCol]\ndel happinessTable[yearCol]\nhappinessTable = happinessTable.set_index(entityCol)\ncorruptionTable = corruptionTable.set_index(entityCol)\n\n# Create merged tables. We create multiple tables to avoid discarding data entries in cases where it's unnecessary\ncorruptionHappinessTable = pd.merge(corruptionTable, happinessTable, on=entityCol)\nhappinessLifeTable = pd.merge(happinessTable, lifeGDPTable, on=entityCol)\ncorruptionGDPTable = pd.merge(corruptionTable, lifeGDPTable, on=entityCol)\n",
   "execution_count": 6,
   "outputs": []
  },
  {
   "cell_type": "code",
   "metadata": {
    "cell_id": "36cee3de-6e42-4901-9bd0-7ddbd76f8e1d",
    "tags": [],
    "deepnote_to_be_reexecuted": false,
    "source_hash": "d51c75a3",
    "execution_start": 1642752216350,
    "execution_millis": 422,
    "deepnote_output_heights": [
     310
    ],
    "deepnote_cell_type": "code"
   },
   "source": "plt.title(\"Corruption vs happiness (2018)\")\nplt.xlabel(\"Corruption - Scale 0-100, (0 means that a country is perceived as highly corrupt)\")\nplt.ylabel(\"Happiness - Scale 0-10, (0 means low happiness)\")\nplt.scatter(corruptionHappinessTable[corruptionCol], corruptionHappinessTable[happinessCol])\nplt.show()\n",
   "execution_count": 7,
   "outputs": [
    {
     "data": {
      "text/plain": "<Figure size 432x288 with 1 Axes>",
      "image/png": "[encoded data removed]"
     },
     "metadata": {
      "needs_background": "light",
      "image/png": {
       "width": 417,
       "height": 278
      }
     },
     "output_type": "display_data"
    }
   ]
  },
  {
   "cell_type": "markdown",
   "source": "##### Is corruption correlated to happiness?\n\nWe chose a scatter plot here, since we wanted to highlight the possible correlation between corruption and happiness. \\\nWe filtered some countries, as some had no data about corruption and / or happiness in 2018.",
   "metadata": {
    "cell_id": "285b5fbf-195a-4dac-a368-c3f97a60adfe",
    "tags": [],
    "deepnote_cell_type": "markdown"
   }
  },
  {
   "cell_type": "code",
   "metadata": {
    "cell_id": "b4639c6b-9b68-4314-8a9f-b990ed3ce13c",
    "tags": [],
    "deepnote_to_be_reexecuted": false,
    "source_hash": "f78feccf",
    "execution_start": 1642752216650,
    "execution_millis": 234,
    "deepnote_table_state": {
     "pageSize": 10,
     "pageIndex": 0,
     "filters": [],
     "sortBy": []
    },
    "deepnote_table_loading": false,
    "deepnote_output_heights": [
     310
    ],
    "deepnote_cell_type": "code"
   },
   "source": "GDPTable = pd.read_csv(\"./life-expectancy-vs-gdp-per-capita.csv\")[[yearCol, GDPCol]]\nGDPTable = GDPTable[GDPTable[yearCol] >= 1900].dropna()\navgGDPByYear = GDPTable.groupby(yearCol).mean()\n\nplt.title(\"GDP per capita evolution\")\nplt.xlabel(\"Year, from 1900 to 2020\")\nplt.ylabel(\"Average GDP per capita, logarithmic scale\")\nplt.plot(avgGDPByYear.index, np.log10(avgGDPByYear[GDPCol]), linewidth=3, color=\"red\")\nplt.show()\n",
   "execution_count": 8,
   "outputs": [
    {
     "data": {
      "text/plain": "<Figure size 432x288 with 1 Axes>",
      "image/png": "[encoded data removed]"
     },
     "metadata": {
      "needs_background": "light",
      "image/png": {
       "width": 388,
       "height": 278
      }
     },
     "output_type": "display_data"
    }
   ]
  },
  {
   "cell_type": "markdown",
   "source": "##### How has the average GDP per capita of the world developed since 1900?\nA line connected plot was used here since it's a great way to visualize change over time. The data used was cleaned to only keep the data for the years after 1900 as that was chosen as an arbitray boundary. Every data point for a certain year was then averaged and stored as the average GDP per capita for that year. Once again a logarithmic scale was used to include the large range of values without compromizing the visualization. Note here that some countries might not have any data for every year since 1900 which might scew the result a bit. However these countries are not included in the calculation in the average so there is still some information to be gained from the result. Since we knew that every year only had one data point a line connected graph of all the data points will be continous and easy to understand. Thus a great visualization for the situation.",
   "metadata": {
    "cell_id": "abde57da-3acd-42ed-b12b-88dae7b39d8c",
    "tags": [],
    "deepnote_cell_type": "markdown"
   }
  },
  {
   "cell_type": "code",
   "metadata": {
    "cell_id": "370236cc-354a-49be-9824-4d7a500cd0d0",
    "tags": [],
    "deepnote_to_be_reexecuted": false,
    "source_hash": "8a267a4e",
    "execution_start": 1642752216934,
    "execution_millis": 514,
    "deepnote_output_heights": [
     310,
     310
    ],
    "deepnote_cell_type": "code"
   },
   "source": "# Happiness and life expectancy distribution\n\nplt.violinplot(happinessLifeTable[happinessCol], showmedians=True)\nplt.title(\"Distribution of life satisfaction\")\nplt.xlabel(\"Distribution\")\nplt.ylabel(\"Life satisfaction in Cantril Ladder\")\nplt.show()\n\nplt.violinplot(lifeGDPTable[lifeCol], showmedians=True)\nplt.title(\"Distribution of life expectancy\")\nplt.xlabel(\"Distribution\")\nplt.ylabel(\"Life expectancy, in years\")\nplt.show()",
   "execution_count": 9,
   "outputs": [
    {
     "data": {
      "text/plain": "<Figure size 432x288 with 1 Axes>",
      "image/png": "[encoded data removed]"
     },
     "metadata": {
      "needs_background": "light",
      "image/png": {
       "width": 376,
       "height": 278
      }
     },
     "output_type": "display_data"
    },
    {
     "data": {
      "text/plain": "<Figure size 432x288 with 1 Axes>",
      "image/png": "[encoded data removed]"
     },
     "metadata": {
      "needs_background": "light",
      "image/png": {
       "width": 382,
       "height": 278
      }
     },
     "output_type": "display_data"
    }
   ]
  },
  {
   "cell_type": "markdown",
   "source": "##### Does happiness and life expectancy share a similiar distribution?\n\nThe best way to convey the idea of similar distribution is, obviously, to show both distribution. This is why we chose a violin graph ; the middle horizontal bar represents the median, and the blue area the distribution curve.",
   "metadata": {
    "cell_id": "9dfc8429-23af-4299-8122-f7df1dbb76b0",
    "tags": [],
    "deepnote_cell_type": "markdown"
   }
  },
  {
   "cell_type": "code",
   "metadata": {
    "cell_id": "757cf2bd-895f-4bf0-b577-e75417bd73ff",
    "tags": [],
    "deepnote_to_be_reexecuted": false,
    "source_hash": "a9128357",
    "execution_start": 1642752217460,
    "execution_millis": 567,
    "deepnote_output_heights": [
     280
    ],
    "deepnote_cell_type": "code"
   },
   "source": "# Corruption and GDP\n\nx = corruptionGDPTable[corruptionCol]\n\ny = corruptionGDPTable[GDPCol]\ny -= min(y)\ny *= 100 / max(y)\n# We dilate and offset the GDP per capita to compare with the corruption level between 0 and 100\n\nbins = np.linspace(0, 100, 50)\n\nplt.hist(x, bins, alpha=0.5, label=\"Corruption level\")\nplt.hist(y, bins, alpha=0.5, label=\"GDP per capita\")\nplt.legend(loc=\"upper right\")\nplt.show()",
   "execution_count": 10,
   "outputs": [
    {
     "data": {
      "text/plain": "<Figure size 432x288 with 1 Axes>",
      "image/png": "[encoded data removed]"
     },
     "metadata": {
      "needs_background": "light",
      "image/png": {
       "width": 368,
       "height": 248
      }
     },
     "output_type": "display_data"
    }
   ]
  },
  {
   "cell_type": "markdown",
   "source": "##### Is corruption correlated to GDP?\n\nThe histograms really highlight the repartition of GDP and corruption across the countries, showing where the spikes are. \\\nWe had to dilate our data and add an offset, such that the spikes are clear and meaningful. Both scales start and stop at the same place.",
   "metadata": {
    "cell_id": "0780e3dd-d361-4d15-956f-1742910437b1",
    "tags": [],
    "deepnote_cell_type": "markdown"
   }
  },
  {
   "cell_type": "markdown",
   "source": "## b)\n\n##### Is corruption correlated to happiness?\nFrom the graph we can see that there seems to be a correlation between happiness and corruption where happiness increases as the corruption decreases.\nOne should be wary of \"Correlation does not mean causation\"´however since we are aware of the data we are dealing with and the premise the correlation implies is logical (Less corruption implies higher happiness) there might be a connection here. Although, we are biased since we are actively looking for a pattern and might have pre-concieved ideas of what we expect to see. \nNonetheless there might be a connection worth exploring here. \n\n\n##### How has the average GDP per capita of the world developed since 1900?\nWe can see the first dip between 1900 and 1920 probably representing the ecomomic effect of the first world war. We can also see the the economic effect of the second world war slightly later. Futhermore we can see the economic crisis of 2008 represented as a dip in the graph.\n\nThe interesting thing about a graph like this is that the context of history is really reflected by the graph.\n\n\n##### Does happiness and life expectancy share a similiar distribution?\nAs we can see above, while the happiness has a distribution that almost look like a bell curve, the life expectancy one has is offset towards late death. \\\nWe can assume that, while the life satisfaction is evenly distributed across all populations, life expectancy is not evenly balanced across the globe.\n\n\n##### Is corruption correlated to GDP?\nAs we can see above, the corruption level hits a spike for the poorer countries, but then gets lower as the GDP increase.\nStill, we can notice that the corruption level gets higher again for the top countries, the ones with a huge-scale economy. Though, GDP and corruption don't really to be correlated.\n\n",
   "metadata": {
    "cell_id": "cbb72f39-a3d9-46d4-959b-5fa5419906aa",
    "tags": [],
    "deepnote_cell_type": "markdown"
   }
  },
  {
   "cell_type": "markdown",
   "source": "<a style='text-decoration:none;line-height:16px;display:flex;color:#5B5B62;padding:10px;justify-content:end;' href='https://deepnote.com?utm_source=created-in-deepnote-cell&projectId=ab83f1d1-4f39-4251-b899-1ad25d544179' target=\"_blank\">\n<img alt='Created in deepnote.com' style='display:inline;max-height:16px;margin:0px;margin-right:7.5px;' src='data:image/svg+xml;base64,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' > </img>\nCreated in <span style='font-weight:600;margin-left:4px;'>Deepnote</span></a>",
   "metadata": {
    "tags": [],
    "created_in_deepnote_cell": true,
    "deepnote_cell_type": "markdown"
   }
  }
 ],
 "nbformat": 4,
 "nbformat_minor": 2,
 "metadata": {
  "orig_nbformat": 2,
  "deepnote": {
   "is_reactive": false
  },
  "deepnote_notebook_id": "b902f136-8e7f-438a-8990-25b1614bef94",
  "deepnote_execution_queue": []
 }
}