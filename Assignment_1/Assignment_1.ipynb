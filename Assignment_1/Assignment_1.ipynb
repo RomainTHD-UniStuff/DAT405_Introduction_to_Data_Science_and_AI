{
 "cells": [
  {
   "cell_type": "markdown",
   "source": "### Olof Sjögren\n### Romain Theodet",
   "metadata": {
    "cell_id": "267d3c7b-219d-4c71-a103-e1f6935066ba",
    "tags": [],
    "deepnote_cell_type": "markdown"
   }
  },
  {
   "cell_type": "markdown",
   "source": "# Question 1\n## a)\n\nThe data was retrieved from: \nhttps://ourworldindata.org/grapher/life-expectancy-vs-gdp-per-capita\n\nThe plot is using the data for the year 2018 and rows containing missing values have been filtered out. The final amount of rows (countries) was 167. Compared to the 195 countries in the world we conclude the table is a reasonable representation.\n\nGDP per capita is measured in 2011 international dollars, which corrects for inflation and cross-country price differences.\n\nNOTE: The axis denoting GDP is plot logarithmic using base 10 to account for a minority of countries with extremly high GDP, thus making the graph hard to read as a lot of the other scatter points blend together.",
   "metadata": {
    "cell_id": "62a5a6f2-f64a-4531-aa03-d8ba6aa93c6b",
    "tags": [],
    "deepnote_cell_type": "markdown"
   }
  },
  {
   "cell_type": "code",
   "metadata": {
    "tags": [],
    "cell_id": "11177646-2fa5-460c-8832-b730743fce5c",
    "deepnote_to_be_reexecuted": false,
    "source_hash": "9927cae2",
    "execution_start": 1642598860347,
    "execution_millis": 298,
    "deepnote_output_heights": [
     280,
     280
    ],
    "deepnote_cell_type": "code"
   },
   "source": "import matplotlib\nimport pandas as pd\nimport matplotlib.pyplot as plt\nimport numpy as np\n\ntable = pd.read_csv(\"./life-expectancy-vs-gdp-per-capita.csv\")\ntable = table[[\"Entity\",\"Year\",\"Life expectancy\",\"GDP per capita\"]]\n\n# 306 \"countries\" at first : this include micronations, continents and other edge-cases\n\n# Only select rows for the year 2018\nis2018 = table[\"Year\"] == 2018\ntable = table[is2018]\n\ntable = table.dropna()\n\n# len(table) == 167\n# There are 195 countries in the world, so while we dropped some,\n# we still keep around 85% of the world\n\nxValues = np.log10(table[\"GDP per capita\"])\nyValues = table[\"Life expectancy\"]\nplt.title(\"GDP per capita vs life expectancy (2018)\")\nplt.xlabel(\"GDP per capita in USD, logarithmic with base 10\")\nplt.ylabel(\"Life expectancy, in years\")\nplt.scatter(xValues, yValues)\nplt.show()\n",
   "execution_count": 52,
   "outputs": [
    {
     "data": {
      "text/plain": "<Figure size 432x288 with 1 Axes>",
      "image/png": "[encoded data removed]"
     },
     "metadata": {
      "needs_background": "light",
      "image/png": {
       "width": 382,
       "height": 278
      }
     },
     "output_type": "display_data"
    }
   ]
  },
  {
   "cell_type": "markdown",
   "source": "## b)\nThe results you can see above seems reasonable.\nWe can see that the GDP of each country seems correlated to its life expectancy.\n\nA logical explaination is that people in poor countries don't live as long as in rich countries, because of political instabilities, food and water shortage, and access to healthcare. \n\n## c)\n\nWe did a data cleaning, as some countries were missing some informations. It probably also helped us remove data points which aren't actually countries such as continents and small city-states, since the original dataset counted 306 entities. \n\nWe also only kept the year 2018,to keep the plot more clear and have the same temporal references.\n\nThe columns we kept are `Entity` (the country name), `Year`, `Life expectancy` and `GDP per capita`. We removed excess columns such as `Country Code` and `Continent`.\n\n## d)",
   "metadata": {
    "cell_id": "6ca916bd-7e7f-4caf-b899-bcea16958ebe",
    "tags": [],
    "deepnote_cell_type": "markdown"
   }
  },
  {
   "cell_type": "code",
   "source": "deviation = np.std(table[\"Life expectancy\"])\nmean = np.mean(table[\"Life expectancy\"])\nrowsAbove = table[ table[\"Life expectancy\"] > mean + deviation ]\n\nprint(\"Countries with a life expectancy higher than one standard deviation above the mean :\")\nrowsAbove",
   "metadata": {
    "cell_id": "bee0ac92-de4f-4025-b253-8ac5f388b06f",
    "tags": [],
    "deepnote_to_be_reexecuted": false,
    "source_hash": "c76c6c13",
    "execution_start": 1642599909115,
    "execution_millis": 37,
    "deepnote_output_heights": [
     21.1875
    ],
    "deepnote_table_state": {
     "pageSize": 10,
     "pageIndex": 0,
     "filters": [],
     "sortBy": []
    },
    "deepnote_table_loading": false,
    "deepnote_cell_type": "code"
   },
   "outputs": [
    {
     "name": "stdout",
     "text": "Countries with a life expectancy higher than one standard deviation above the mean\n",
     "output_type": "stream"
    },
    {
     "output_type": "execute_result",
     "execution_count": 59,
     "data": {
      "application/vnd.deepnote.dataframe.v3+json": {
       "column_count": 4,
       "row_count": 29,
       "columns": [
        {
         "name": "Entity",
         "dtype": "object",
         "stats": {
          "unique_count": 29,
          "nan_count": 0,
          "categories": [
           {
            "name": "Australia",
            "count": 1
           },
           {
            "name": "Austria",
            "count": 1
           },
           {
            "name": "27 others",
            "count": 27
           }
          ]
         }
        },
        {
         "name": "Year",
         "dtype": "int64",
         "stats": {
          "unique_count": 1,
          "nan_count": 0,
          "min": "2018",
          "max": "2018",
          "histogram": [
           {
            "bin_start": 2017.5,
            "bin_end": 2017.6,
            "count": 0
           },
           {
            "bin_start": 2017.6,
            "bin_end": 2017.7,
            "count": 0
           },
           {
            "bin_start": 2017.7,
            "bin_end": 2017.8,
            "count": 0
           },
           {
            "bin_start": 2017.8,
            "bin_end": 2017.9,
            "count": 0
           },
           {
            "bin_start": 2017.9,
            "bin_end": 2018,
            "count": 0
           },
           {
            "bin_start": 2018,
            "bin_end": 2018.1,
            "count": 29
           },
           {
            "bin_start": 2018.1,
            "bin_end": 2018.2,
            "count": 0
           },
           {
            "bin_start": 2018.2,
            "bin_end": 2018.3,
            "count": 0
           },
           {
            "bin_start": 2018.3,
            "bin_end": 2018.4,
            "count": 0
           },
           {
            "bin_start": 2018.4,
            "bin_end": 2018.5,
            "count": 0
           }
          ]
         }
        },
        {
         "name": "Life expectancy",
         "dtype": "float64",
         "stats": {
          "unique_count": 29,
          "nan_count": 0,
          "min": "80.784",
          "max": "84.687",
          "histogram": [
           {
            "bin_start": 80.784,
            "bin_end": 81.1743,
            "count": 3
           },
           {
            "bin_start": 81.1743,
            "bin_end": 81.5646,
            "count": 4
           },
           {
            "bin_start": 81.5646,
            "bin_end": 81.95490000000001,
            "count": 2
           },
           {
            "bin_start": 81.95490000000001,
            "bin_end": 82.3452,
            "count": 7
           },
           {
            "bin_start": 82.3452,
            "bin_end": 82.7355,
            "count": 3
           },
           {
            "bin_start": 82.7355,
            "bin_end": 83.1258,
            "count": 3
           },
           {
            "bin_start": 83.1258,
            "bin_end": 83.5161,
            "count": 4
           },
           {
            "bin_start": 83.5161,
            "bin_end": 83.9064,
            "count": 1
           },
           {
            "bin_start": 83.9064,
            "bin_end": 84.2967,
            "count": 0
           },
           {
            "bin_start": 84.2967,
            "bin_end": 84.687,
            "count": 2
           }
          ]
         }
        },
        {
         "name": "GDP per capita",
         "dtype": "float64",
         "stats": {
          "unique_count": 29,
          "nan_count": 0,
          "min": "23450.7658",
          "max": "84580.1362",
          "histogram": [
           {
            "bin_start": 23450.7658,
            "bin_end": 29563.702839999998,
            "count": 4
           },
           {
            "bin_start": 29563.702839999998,
            "bin_end": 35676.63988,
            "count": 5
           },
           {
            "bin_start": 35676.63988,
            "bin_end": 41789.57692,
            "count": 6
           },
           {
            "bin_start": 41789.57692,
            "bin_end": 47902.51396,
            "count": 7
           },
           {
            "bin_start": 47902.51396,
            "bin_end": 54015.450999999994,
            "count": 2
           },
           {
            "bin_start": 54015.450999999994,
            "bin_end": 60128.38804,
            "count": 1
           },
           {
            "bin_start": 60128.38804,
            "bin_end": 66241.32508,
            "count": 2
           },
           {
            "bin_start": 66241.32508,
            "bin_end": 72354.26212,
            "count": 1
           },
           {
            "bin_start": 72354.26212,
            "bin_end": 78467.19915999999,
            "count": 0
           },
           {
            "bin_start": 78467.19915999999,
            "bin_end": 84580.1362,
            "count": 1
           }
          ]
         }
        },
        {
         "name": "_deepnote_index_column",
         "dtype": "int64"
        }
       ],
       "rows": [
        {
         "Entity": "Australia",
         "Year": 2018,
         "Life expectancy": 83.281,
         "GDP per capita": 49830.7993,
         "_deepnote_index_column": 3110
        },
        {
         "Entity": "Austria",
         "Year": 2018,
         "Life expectancy": 81.434,
         "GDP per capita": 42988.0709,
         "_deepnote_index_column": 3347
        },
        {
         "Entity": "Belgium",
         "Year": 2018,
         "Life expectancy": 81.468,
         "GDP per capita": 39756.2031,
         "_deepnote_index_column": 5248
        },
        {
         "Entity": "Canada",
         "Year": 2018,
         "Life expectancy": 82.315,
         "GDP per capita": 44868.7435,
         "_deepnote_index_column": 9029
        },
        {
         "Entity": "Cyprus",
         "Year": 2018,
         "Life expectancy": 80.828,
         "GDP per capita": 27184.4166,
         "_deepnote_index_column": 12639
        },
        {
         "Entity": "Denmark",
         "Year": 2018,
         "Life expectancy": 80.784,
         "GDP per capita": 46312.3443,
         "_deepnote_index_column": 13622
        },
        {
         "Entity": "Finland",
         "Year": 2018,
         "Life expectancy": 81.736,
         "GDP per capita": 38896.7005,
         "_deepnote_index_column": 17473
        },
        {
         "Entity": "France",
         "Year": 2018,
         "Life expectancy": 82.541,
         "GDP per capita": 38515.9193,
         "_deepnote_index_column": 18013
        },
        {
         "Entity": "Germany",
         "Year": 2018,
         "Life expectancy": 81.18,
         "GDP per capita": 46177.6187,
         "_deepnote_index_column": 19617
        },
        {
         "Entity": "Greece",
         "Year": 2018,
         "Life expectancy": 82.072,
         "GDP per capita": 23450.7658,
         "_deepnote_index_column": 20214
        }
       ]
      },
      "text/plain": "               Entity  Year  Life expectancy  GDP per capita\n3110        Australia  2018           83.281      49830.7993\n3347          Austria  2018           81.434      42988.0709\n5248          Belgium  2018           81.468      39756.2031\n9029           Canada  2018           82.315      44868.7435\n12639          Cyprus  2018           80.828      27184.4166\n13622         Denmark  2018           80.784      46312.3443\n17473         Finland  2018           81.736      38896.7005\n18013          France  2018           82.541      38515.9193\n19617         Germany  2018           81.180      46177.6187\n20214          Greece  2018           82.072      23450.7658\n22575       Hong Kong  2018           84.687      50839.3714\n23205         Iceland  2018           82.855      43438.5412\n24399         Ireland  2018           82.103      64684.3020\n24724          Israel  2018           82.819      32954.7701\n25062           Italy  2018           83.352      34364.1682\n25991           Japan  2018           84.470      38673.8081\n29967      Luxembourg  2018           82.102      57427.5003\n31507           Malta  2018           82.376      32028.9124\n36073     Netherlands  2018           82.143      47474.1095\n36857     New Zealand  2018           82.145      35336.1363\n38966          Norway  2018           82.271      84580.1362\n42481        Portugal  2018           81.857      27035.6002\n47306       Singapore  2018           83.458      68402.3451\n47887        Slovenia  2018           81.172      29244.9198\n49270     South Korea  2018           82.846      37927.6095\n49808           Spain  2018           83.433      31496.5200\n51120          Sweden  2018           82.654      45541.8921\n51740     Switzerland  2018           83.630      61372.7301\n56358  United Kingdom  2018           81.236      38058.0856",
      "text/html": "<div>\n<style scoped>\n    .dataframe tbody tr th:only-of-type {\n        vertical-align: middle;\n    }\n\n    .dataframe tbody tr th {\n        vertical-align: top;\n    }\n\n    .dataframe thead th {\n        text-align: right;\n    }\n</style>\n<table border=\"1\" class=\"dataframe\">\n  <thead>\n    <tr style=\"text-align: right;\">\n      <th></th>\n      <th>Entity</th>\n      <th>Year</th>\n      <th>Life expectancy</th>\n      <th>GDP per capita</th>\n    </tr>\n  </thead>\n  <tbody>\n    <tr>\n      <th>3110</th>\n      <td>Australia</td>\n      <td>2018</td>\n      <td>83.281</td>\n      <td>49830.7993</td>\n    </tr>\n    <tr>\n      <th>3347</th>\n      <td>Austria</td>\n      <td>2018</td>\n      <td>81.434</td>\n      <td>42988.0709</td>\n    </tr>\n    <tr>\n      <th>5248</th>\n      <td>Belgium</td>\n      <td>2018</td>\n      <td>81.468</td>\n      <td>39756.2031</td>\n    </tr>\n    <tr>\n      <th>9029</th>\n      <td>Canada</td>\n      <td>2018</td>\n      <td>82.315</td>\n      <td>44868.7435</td>\n    </tr>\n    <tr>\n      <th>12639</th>\n      <td>Cyprus</td>\n      <td>2018</td>\n      <td>80.828</td>\n      <td>27184.4166</td>\n    </tr>\n    <tr>\n      <th>13622</th>\n      <td>Denmark</td>\n      <td>2018</td>\n      <td>80.784</td>\n      <td>46312.3443</td>\n    </tr>\n    <tr>\n      <th>17473</th>\n      <td>Finland</td>\n      <td>2018</td>\n      <td>81.736</td>\n      <td>38896.7005</td>\n    </tr>\n    <tr>\n      <th>18013</th>\n      <td>France</td>\n      <td>2018</td>\n      <td>82.541</td>\n      <td>38515.9193</td>\n    </tr>\n    <tr>\n      <th>19617</th>\n      <td>Germany</td>\n      <td>2018</td>\n      <td>81.180</td>\n      <td>46177.6187</td>\n    </tr>\n    <tr>\n      <th>20214</th>\n      <td>Greece</td>\n      <td>2018</td>\n      <td>82.072</td>\n      <td>23450.7658</td>\n    </tr>\n    <tr>\n      <th>22575</th>\n      <td>Hong Kong</td>\n      <td>2018</td>\n      <td>84.687</td>\n      <td>50839.3714</td>\n    </tr>\n    <tr>\n      <th>23205</th>\n      <td>Iceland</td>\n      <td>2018</td>\n      <td>82.855</td>\n      <td>43438.5412</td>\n    </tr>\n    <tr>\n      <th>24399</th>\n      <td>Ireland</td>\n      <td>2018</td>\n      <td>82.103</td>\n      <td>64684.3020</td>\n    </tr>\n    <tr>\n      <th>24724</th>\n      <td>Israel</td>\n      <td>2018</td>\n      <td>82.819</td>\n      <td>32954.7701</td>\n    </tr>\n    <tr>\n      <th>25062</th>\n      <td>Italy</td>\n      <td>2018</td>\n      <td>83.352</td>\n      <td>34364.1682</td>\n    </tr>\n    <tr>\n      <th>25991</th>\n      <td>Japan</td>\n      <td>2018</td>\n      <td>84.470</td>\n      <td>38673.8081</td>\n    </tr>\n    <tr>\n      <th>29967</th>\n      <td>Luxembourg</td>\n      <td>2018</td>\n      <td>82.102</td>\n      <td>57427.5003</td>\n    </tr>\n    <tr>\n      <th>31507</th>\n      <td>Malta</td>\n      <td>2018</td>\n      <td>82.376</td>\n      <td>32028.9124</td>\n    </tr>\n    <tr>\n      <th>36073</th>\n      <td>Netherlands</td>\n      <td>2018</td>\n      <td>82.143</td>\n      <td>47474.1095</td>\n    </tr>\n    <tr>\n      <th>36857</th>\n      <td>New Zealand</td>\n      <td>2018</td>\n      <td>82.145</td>\n      <td>35336.1363</td>\n    </tr>\n    <tr>\n      <th>38966</th>\n      <td>Norway</td>\n      <td>2018</td>\n      <td>82.271</td>\n      <td>84580.1362</td>\n    </tr>\n    <tr>\n      <th>42481</th>\n      <td>Portugal</td>\n      <td>2018</td>\n      <td>81.857</td>\n      <td>27035.6002</td>\n    </tr>\n    <tr>\n      <th>47306</th>\n      <td>Singapore</td>\n      <td>2018</td>\n      <td>83.458</td>\n      <td>68402.3451</td>\n    </tr>\n    <tr>\n      <th>47887</th>\n      <td>Slovenia</td>\n      <td>2018</td>\n      <td>81.172</td>\n      <td>29244.9198</td>\n    </tr>\n    <tr>\n      <th>49270</th>\n      <td>South Korea</td>\n      <td>2018</td>\n      <td>82.846</td>\n      <td>37927.6095</td>\n    </tr>\n    <tr>\n      <th>49808</th>\n      <td>Spain</td>\n      <td>2018</td>\n      <td>83.433</td>\n      <td>31496.5200</td>\n    </tr>\n    <tr>\n      <th>51120</th>\n      <td>Sweden</td>\n      <td>2018</td>\n      <td>82.654</td>\n      <td>45541.8921</td>\n    </tr>\n    <tr>\n      <th>51740</th>\n      <td>Switzerland</td>\n      <td>2018</td>\n      <td>83.630</td>\n      <td>61372.7301</td>\n    </tr>\n    <tr>\n      <th>56358</th>\n      <td>United Kingdom</td>\n      <td>2018</td>\n      <td>81.236</td>\n      <td>38058.0856</td>\n    </tr>\n  </tbody>\n</table>\n</div>"
     },
     "metadata": {}
    }
   ],
   "execution_count": 58
  },
  {
   "cell_type": "markdown",
   "source": "<a style='text-decoration:none;line-height:16px;display:flex;color:#5B5B62;padding:10px;justify-content:end;' href='https://deepnote.com?utm_source=created-in-deepnote-cell&projectId=ab83f1d1-4f39-4251-b899-1ad25d544179' target=\"_blank\">\n<img alt='Created in deepnote.com' style='display:inline;max-height:16px;margin:0px;margin-right:7.5px;' src='data:image/svg+xml;base64,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' > </img>\nCreated in <span style='font-weight:600;margin-left:4px;'>Deepnote</span></a>",
   "metadata": {
    "tags": [],
    "created_in_deepnote_cell": true,
    "deepnote_cell_type": "markdown"
   }
  }
 ],
 "nbformat": 4,
 "nbformat_minor": 2,
 "metadata": {
  "orig_nbformat": 2,
  "deepnote": {
   "is_reactive": false
  },
  "deepnote_notebook_id": "b902f136-8e7f-438a-8990-25b1614bef94",
  "deepnote_execution_queue": []
 }
}