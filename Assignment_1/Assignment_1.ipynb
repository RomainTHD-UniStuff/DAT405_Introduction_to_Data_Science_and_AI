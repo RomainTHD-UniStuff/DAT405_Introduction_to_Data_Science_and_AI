{
 "cells": [
  {
   "cell_type": "markdown",
   "source": "### Olof Sjögren\n### Romain Theodet",
   "metadata": {
    "cell_id": "267d3c7b-219d-4c71-a103-e1f6935066ba",
    "tags": [],
    "deepnote_cell_type": "markdown"
   }
  },
  {
   "cell_type": "markdown",
   "source": "# Question 1\n## a)\n\nThe data was retrieved from: \nhttps://ourworldindata.org/grapher/life-expectancy-vs-gdp-per-capita\n\nThe plot is using the data for the year 2018 and rows containing missing values have been filtered out. The final amount of rows (countries) was 167. Compared to the 195 countries in the world we conclude the table is a reasonable representation.\n\nGDP per capita is measured in 2011 international dollars, which corrects for inflation and cross-country price differences.\n\nNOTE: The axis denoting GDP is plot logarithmic using base 10 to account for a minority of countries with extremly high GDP, thus making the graph hard to read as a lot of the other scatter points blend together.",
   "metadata": {
    "cell_id": "62a5a6f2-f64a-4531-aa03-d8ba6aa93c6b",
    "tags": [],
    "deepnote_cell_type": "markdown"
   }
  },
  {
   "cell_type": "code",
   "metadata": {
    "tags": [],
    "cell_id": "11177646-2fa5-460c-8832-b730743fce5c",
    "deepnote_to_be_reexecuted": false,
    "source_hash": "40ffe0fe",
    "execution_start": 1642604597867,
    "execution_millis": 1375,
    "deepnote_output_heights": [
     280
    ],
    "deepnote_cell_type": "code"
   },
   "source": "import matplotlib\nimport pandas as pd\nimport matplotlib.pyplot as plt\nimport numpy as np\n\nentityCol = \"Entity\"\nyearCol = \"Year\"\npopulationCol = \"Population (historical estimates)\"\nlifeCol = \"Life expectancy\"\nGDPCol = \"GDP per capita\"\n\ntable = pd.read_csv(\"./life-expectancy-vs-gdp-per-capita.csv\")\ntable = table[[entityCol, yearCol, populationCol, lifeCol, GDPCol]]\n\n# 306 \"countries\" at first : this include micronations, continents and other edge-cases\n\n# Only select rows for the year 2018\nis2018 = table[yearCol] == 2018\ntable = table[is2018]\n\n# Remove all rows with 'nan' values, i.e. inclomplete rows\ntable = table.dropna()\n\n# We can also remove the year column since we know all are for year 2018.\n# We also delete the entry for the world as it is not a country.\ndel table[yearCol]\ntable = table.set_index(entityCol)\ntable = table.drop(\"World\")\n\ntable[GDPCol] = np.log10(table[GDPCol])\n\n# len(table) == 167\n# There are 195 countries in the world, so while we dropped some,\n# we still keep around 85% of the world\n\nxValues = table[GDPCol]\nyValues = table[lifeCol]\nplt.title(\"GDP per capita vs life expectancy (2018)\")\nplt.xlabel(\"GDP per capita in USD, logarithmic with base 10\")\nplt.ylabel(\"Life expectancy, in years\")\nplt.scatter(xValues, yValues)\nplt.show()\n",
   "execution_count": 1,
   "outputs": [
    {
     "data": {
      "text/plain": "<Figure size 432x288 with 1 Axes>",
      "image/png": "[encoded data removed]"
     },
     "metadata": {
      "needs_background": "light",
      "image/png": {
       "width": 382,
       "height": 278
      }
     },
     "output_type": "display_data"
    }
   ]
  },
  {
   "cell_type": "markdown",
   "source": "## b)\nThe results you can see above seems reasonable.\nWe can see that the GDP of each country seems correlated to its life expectancy.\n\nA logical explaination is that people in poor countries don't live as long as in rich countries, because of political instabilities, food and water shortage, and access to healthcare. \n\n## c)\n\nWe did a data cleaning, as some countries were missing some informations. It probably also helped us remove data points which aren't actually countries such as continents and small city-states, since the original dataset counted 306 entities. \n\nWe also only kept the year 2018,to keep the plot more clear and have the same temporal references.\n\nThe columns we kept are `Entity` (the country name), `Year`, `Life expectancy` and `GDP per capita`. We removed excess columns such as `Country Code` and `Continent`.\n\n## d)\nThe calculated table below shows the countries with a life expectancy higher than one standard deviation above the mean.",
   "metadata": {
    "cell_id": "6ca916bd-7e7f-4caf-b899-bcea16958ebe",
    "tags": [],
    "deepnote_cell_type": "markdown"
   }
  },
  {
   "cell_type": "code",
   "source": "deviationLife = np.std(table[lifeCol])\nmeanLife = np.mean(table[lifeCol])\ndeviationGDP = np.std(table[GDPCol])\nmeanGDP = np.mean(table[GDPCol])\n\nrowsAbove = table[ table[lifeCol] > meanLife + deviationLife ]\ndel rowsAbove[populationCol]\n\nprint(\"Countries with a life expectancy higher than one standard deviation above the mean :\")\nrowsAbove",
   "metadata": {
    "cell_id": "bee0ac92-de4f-4025-b253-8ac5f388b06f",
    "tags": [],
    "deepnote_to_be_reexecuted": false,
    "source_hash": "7e89ce78",
    "execution_start": 1642604599237,
    "execution_millis": 7,
    "deepnote_output_heights": [
     21.1875
    ],
    "deepnote_table_state": {
     "pageSize": 10,
     "pageIndex": 2,
     "filters": [],
     "sortBy": []
    },
    "deepnote_table_loading": false,
    "deepnote_cell_type": "code"
   },
   "outputs": [
    {
     "name": "stdout",
     "text": "Countries with a life expectancy higher than one standard deviation above the mean :\n",
     "output_type": "stream"
    },
    {
     "output_type": "execute_result",
     "execution_count": 2,
     "data": {
      "application/vnd.deepnote.dataframe.v3+json": {
       "column_count": 2,
       "row_count": 29,
       "columns": [
        {
         "name": "Life expectancy",
         "dtype": "float64",
         "stats": {
          "unique_count": 29,
          "nan_count": 0,
          "min": "80.784",
          "max": "84.687",
          "histogram": [
           {
            "bin_start": 80.784,
            "bin_end": 81.1743,
            "count": 3
           },
           {
            "bin_start": 81.1743,
            "bin_end": 81.5646,
            "count": 4
           },
           {
            "bin_start": 81.5646,
            "bin_end": 81.95490000000001,
            "count": 2
           },
           {
            "bin_start": 81.95490000000001,
            "bin_end": 82.3452,
            "count": 7
           },
           {
            "bin_start": 82.3452,
            "bin_end": 82.7355,
            "count": 3
           },
           {
            "bin_start": 82.7355,
            "bin_end": 83.1258,
            "count": 3
           },
           {
            "bin_start": 83.1258,
            "bin_end": 83.5161,
            "count": 4
           },
           {
            "bin_start": 83.5161,
            "bin_end": 83.9064,
            "count": 1
           },
           {
            "bin_start": 83.9064,
            "bin_end": 84.2967,
            "count": 0
           },
           {
            "bin_start": 84.2967,
            "bin_end": 84.687,
            "count": 2
           }
          ]
         }
        },
        {
         "name": "GDP per capita",
         "dtype": "float64",
         "stats": {
          "unique_count": 29,
          "nan_count": 0,
          "min": "4.370157029451265",
          "max": "4.927268380158964",
          "histogram": [
           {
            "bin_start": 4.370157029451265,
            "bin_end": 4.4258681645220355,
            "count": 1
           },
           {
            "bin_start": 4.4258681645220355,
            "bin_end": 4.481579299592805,
            "count": 3
           },
           {
            "bin_start": 4.481579299592805,
            "bin_end": 4.537290434663575,
            "count": 4
           },
           {
            "bin_start": 4.537290434663575,
            "bin_end": 4.593001569734344,
            "count": 6
           },
           {
            "bin_start": 4.593001569734344,
            "bin_end": 4.6487127048051144,
            "count": 3
           },
           {
            "bin_start": 4.6487127048051144,
            "bin_end": 4.704423839875885,
            "count": 6
           },
           {
            "bin_start": 4.704423839875885,
            "bin_end": 4.760134974946654,
            "count": 2
           },
           {
            "bin_start": 4.760134974946654,
            "bin_end": 4.815846110017424,
            "count": 2
           },
           {
            "bin_start": 4.815846110017424,
            "bin_end": 4.871557245088193,
            "count": 1
           },
           {
            "bin_start": 4.871557245088193,
            "bin_end": 4.927268380158964,
            "count": 1
           }
          ]
         }
        },
        {
         "name": "_deepnote_index_column",
         "dtype": "object"
        }
       ],
       "rows": [
        {
         "Life expectancy": 82.271,
         "GDP per capita": 4.927268380158964,
         "_deepnote_index_column": "Norway"
        },
        {
         "Life expectancy": 81.857,
         "GDP per capita": 4.431936015511591,
         "_deepnote_index_column": "Portugal"
        },
        {
         "Life expectancy": 83.458,
         "GDP per capita": 4.835070991289281,
         "_deepnote_index_column": "Singapore"
        },
        {
         "Life expectancy": 81.172,
         "GDP per capita": 4.466050434710618,
         "_deepnote_index_column": "Slovenia"
        },
        {
         "Life expectancy": 82.846,
         "GDP per capita": 4.578955470868477,
         "_deepnote_index_column": "South Korea"
        },
        {
         "Life expectancy": 83.433,
         "GDP per capita": 4.49826257193922,
         "_deepnote_index_column": "Spain"
        },
        {
         "Life expectancy": 82.654,
         "GDP per capita": 4.658411070010328,
         "_deepnote_index_column": "Sweden"
        },
        {
         "Life expectancy": 83.63,
         "GDP per capita": 4.787975442837347,
         "_deepnote_index_column": "Switzerland"
        },
        {
         "Life expectancy": 81.236,
         "GDP per capita": 4.580446938594545,
         "_deepnote_index_column": "United Kingdom"
        }
       ]
      },
      "text/plain": "                Life expectancy  GDP per capita\nEntity                                         \nAustralia                83.281        4.697498\nAustria                  81.434        4.633348\nBelgium                  81.468        4.599405\nCanada                   82.315        4.651944\nCyprus                   80.828        4.434320\nDenmark                  80.784        4.665697\nFinland                  81.736        4.589913\nFrance                   82.541        4.585640\nGermany                  81.180        4.664432\nGreece                   82.072        4.370157\nHong Kong                84.687        4.706200\nIceland                  82.855        4.637875\nIreland                  82.103        4.810799\nIsrael                   82.819        4.517918\nItaly                    83.352        4.536106\nJapan                    84.470        4.587417\nLuxembourg               82.102        4.759120\nMalta                    82.376        4.505542\nNetherlands              82.143        4.676457\nNew Zealand              82.145        4.548219\nNorway                   82.271        4.927268\nPortugal                 81.857        4.431936\nSingapore                83.458        4.835071\nSlovenia                 81.172        4.466050\nSouth Korea              82.846        4.578955\nSpain                    83.433        4.498263\nSweden                   82.654        4.658411\nSwitzerland              83.630        4.787975\nUnited Kingdom           81.236        4.580447",
      "text/html": "<div>\n<style scoped>\n    .dataframe tbody tr th:only-of-type {\n        vertical-align: middle;\n    }\n\n    .dataframe tbody tr th {\n        vertical-align: top;\n    }\n\n    .dataframe thead th {\n        text-align: right;\n    }\n</style>\n<table border=\"1\" class=\"dataframe\">\n  <thead>\n    <tr style=\"text-align: right;\">\n      <th></th>\n      <th>Life expectancy</th>\n      <th>GDP per capita</th>\n    </tr>\n    <tr>\n      <th>Entity</th>\n      <th></th>\n      <th></th>\n    </tr>\n  </thead>\n  <tbody>\n    <tr>\n      <th>Australia</th>\n      <td>83.281</td>\n      <td>4.697498</td>\n    </tr>\n    <tr>\n      <th>Austria</th>\n      <td>81.434</td>\n      <td>4.633348</td>\n    </tr>\n    <tr>\n      <th>Belgium</th>\n      <td>81.468</td>\n      <td>4.599405</td>\n    </tr>\n    <tr>\n      <th>Canada</th>\n      <td>82.315</td>\n      <td>4.651944</td>\n    </tr>\n    <tr>\n      <th>Cyprus</th>\n      <td>80.828</td>\n      <td>4.434320</td>\n    </tr>\n    <tr>\n      <th>Denmark</th>\n      <td>80.784</td>\n      <td>4.665697</td>\n    </tr>\n    <tr>\n      <th>Finland</th>\n      <td>81.736</td>\n      <td>4.589913</td>\n    </tr>\n    <tr>\n      <th>France</th>\n      <td>82.541</td>\n      <td>4.585640</td>\n    </tr>\n    <tr>\n      <th>Germany</th>\n      <td>81.180</td>\n      <td>4.664432</td>\n    </tr>\n    <tr>\n      <th>Greece</th>\n      <td>82.072</td>\n      <td>4.370157</td>\n    </tr>\n    <tr>\n      <th>Hong Kong</th>\n      <td>84.687</td>\n      <td>4.706200</td>\n    </tr>\n    <tr>\n      <th>Iceland</th>\n      <td>82.855</td>\n      <td>4.637875</td>\n    </tr>\n    <tr>\n      <th>Ireland</th>\n      <td>82.103</td>\n      <td>4.810799</td>\n    </tr>\n    <tr>\n      <th>Israel</th>\n      <td>82.819</td>\n      <td>4.517918</td>\n    </tr>\n    <tr>\n      <th>Italy</th>\n      <td>83.352</td>\n      <td>4.536106</td>\n    </tr>\n    <tr>\n      <th>Japan</th>\n      <td>84.470</td>\n      <td>4.587417</td>\n    </tr>\n    <tr>\n      <th>Luxembourg</th>\n      <td>82.102</td>\n      <td>4.759120</td>\n    </tr>\n    <tr>\n      <th>Malta</th>\n      <td>82.376</td>\n      <td>4.505542</td>\n    </tr>\n    <tr>\n      <th>Netherlands</th>\n      <td>82.143</td>\n      <td>4.676457</td>\n    </tr>\n    <tr>\n      <th>New Zealand</th>\n      <td>82.145</td>\n      <td>4.548219</td>\n    </tr>\n    <tr>\n      <th>Norway</th>\n      <td>82.271</td>\n      <td>4.927268</td>\n    </tr>\n    <tr>\n      <th>Portugal</th>\n      <td>81.857</td>\n      <td>4.431936</td>\n    </tr>\n    <tr>\n      <th>Singapore</th>\n      <td>83.458</td>\n      <td>4.835071</td>\n    </tr>\n    <tr>\n      <th>Slovenia</th>\n      <td>81.172</td>\n      <td>4.466050</td>\n    </tr>\n    <tr>\n      <th>South Korea</th>\n      <td>82.846</td>\n      <td>4.578955</td>\n    </tr>\n    <tr>\n      <th>Spain</th>\n      <td>83.433</td>\n      <td>4.498263</td>\n    </tr>\n    <tr>\n      <th>Sweden</th>\n      <td>82.654</td>\n      <td>4.658411</td>\n    </tr>\n    <tr>\n      <th>Switzerland</th>\n      <td>83.630</td>\n      <td>4.787975</td>\n    </tr>\n    <tr>\n      <th>United Kingdom</th>\n      <td>81.236</td>\n      <td>4.580447</td>\n    </tr>\n  </tbody>\n</table>\n</div>"
     },
     "metadata": {}
    }
   ],
   "execution_count": 2
  },
  {
   "cell_type": "markdown",
   "source": "## e)\nThe result is based on the assumption that a high life expectancy is any life expectancy higher than average, plus a small bias, which is a quarter of a standard deviation.\nSubsequently a low GDP per capita is any GDP per capita lower than average, minus a bias.\n\nThe table below shows countries with a high life expectancy and a low GDP per capita.",
   "metadata": {
    "cell_id": "d101f148-b0f8-467a-8dfa-2f823bf6a570",
    "tags": [],
    "deepnote_cell_type": "markdown"
   }
  },
  {
   "cell_type": "code",
   "source": "rowsBelowAverage = table[ (table[lifeCol] > meanLife + deviationLife / 4) & (table[GDPCol] < meanGDP - deviationGDP / 4) ]\ndel rowsBelowAverage[populationCol]\n\nprint(\"Countries with a high life expectancy but a low GDP per capita :\")\nrowsBelowAverage\n",
   "metadata": {
    "cell_id": "6dfcea37-92ce-49b7-a354-20f9df6828e8",
    "tags": [],
    "deepnote_to_be_reexecuted": false,
    "source_hash": "3b09ca0e",
    "execution_start": 1642604599263,
    "execution_millis": 9,
    "deepnote_table_state": {
     "pageSize": 10,
     "pageIndex": 0,
     "filters": [],
     "sortBy": []
    },
    "deepnote_table_loading": false,
    "deepnote_cell_type": "code"
   },
   "outputs": [
    {
     "name": "stdout",
     "text": "Countries with a high life expectancy but a low GDP per capita :\n",
     "output_type": "stream"
    },
    {
     "output_type": "execute_result",
     "execution_count": 3,
     "data": {
      "application/vnd.deepnote.dataframe.v3+json": {
       "column_count": 2,
       "row_count": 2,
       "columns": [
        {
         "name": "Life expectancy",
         "dtype": "float64",
         "stats": {
          "unique_count": 2,
          "nan_count": 0,
          "min": "75.088",
          "max": "75.317",
          "histogram": [
           {
            "bin_start": 75.088,
            "bin_end": 75.11089999999999,
            "count": 1
           },
           {
            "bin_start": 75.11089999999999,
            "bin_end": 75.1338,
            "count": 0
           },
           {
            "bin_start": 75.1338,
            "bin_end": 75.1567,
            "count": 0
           },
           {
            "bin_start": 75.1567,
            "bin_end": 75.1796,
            "count": 0
           },
           {
            "bin_start": 75.1796,
            "bin_end": 75.20249999999999,
            "count": 0
           },
           {
            "bin_start": 75.20249999999999,
            "bin_end": 75.2254,
            "count": 0
           },
           {
            "bin_start": 75.2254,
            "bin_end": 75.2483,
            "count": 0
           },
           {
            "bin_start": 75.2483,
            "bin_end": 75.2712,
            "count": 0
           },
           {
            "bin_start": 75.2712,
            "bin_end": 75.29409999999999,
            "count": 0
           },
           {
            "bin_start": 75.29409999999999,
            "bin_end": 75.317,
            "count": 1
           }
          ]
         }
        },
        {
         "name": "GDP per capita",
         "dtype": "float64",
         "stats": {
          "unique_count": 2,
          "nan_count": 0,
          "min": "3.7025714352528625",
          "max": "3.8334111987151993",
          "histogram": [
           {
            "bin_start": 3.7025714352528625,
            "bin_end": 3.715655411599096,
            "count": 1
           },
           {
            "bin_start": 3.715655411599096,
            "bin_end": 3.7287393879453297,
            "count": 0
           },
           {
            "bin_start": 3.7287393879453297,
            "bin_end": 3.7418233642915637,
            "count": 0
           },
           {
            "bin_start": 3.7418233642915637,
            "bin_end": 3.7549073406377973,
            "count": 0
           },
           {
            "bin_start": 3.7549073406377973,
            "bin_end": 3.767991316984031,
            "count": 0
           },
           {
            "bin_start": 3.767991316984031,
            "bin_end": 3.7810752933302645,
            "count": 0
           },
           {
            "bin_start": 3.7810752933302645,
            "bin_end": 3.794159269676498,
            "count": 0
           },
           {
            "bin_start": 3.794159269676498,
            "bin_end": 3.807243246022732,
            "count": 0
           },
           {
            "bin_start": 3.807243246022732,
            "bin_end": 3.8203272223689657,
            "count": 0
           },
           {
            "bin_start": 3.8203272223689657,
            "bin_end": 3.8334111987151993,
            "count": 1
           }
          ]
         }
        },
        {
         "name": "_deepnote_index_column",
         "dtype": "object"
        }
       ],
       "rows": [
        {
         "Life expectancy": 75.088,
         "GDP per capita": 3.7025714352528625,
         "_deepnote_index_column": "Honduras"
        },
        {
         "Life expectancy": 75.317,
         "GDP per capita": 3.8334111987151993,
         "_deepnote_index_column": "Vietnam"
        }
       ]
      },
      "text/plain": "          Life expectancy  GDP per capita\nEntity                                   \nHonduras           75.088        3.702571\nVietnam            75.317        3.833411",
      "text/html": "<div>\n<style scoped>\n    .dataframe tbody tr th:only-of-type {\n        vertical-align: middle;\n    }\n\n    .dataframe tbody tr th {\n        vertical-align: top;\n    }\n\n    .dataframe thead th {\n        text-align: right;\n    }\n</style>\n<table border=\"1\" class=\"dataframe\">\n  <thead>\n    <tr style=\"text-align: right;\">\n      <th></th>\n      <th>Life expectancy</th>\n      <th>GDP per capita</th>\n    </tr>\n    <tr>\n      <th>Entity</th>\n      <th></th>\n      <th></th>\n    </tr>\n  </thead>\n  <tbody>\n    <tr>\n      <th>Honduras</th>\n      <td>75.088</td>\n      <td>3.702571</td>\n    </tr>\n    <tr>\n      <th>Vietnam</th>\n      <td>75.317</td>\n      <td>3.833411</td>\n    </tr>\n  </tbody>\n</table>\n</div>"
     },
     "metadata": {}
    }
   ],
   "execution_count": 3
  },
  {
   "cell_type": "markdown",
   "source": "## f)\nWe consider a strong economy to be a country with a total GDP higher than one standard deviation above the mean.\nWe are searching for any of these countries which have a lower than average life expectancy.\n\nThe bias is higher than above (a full standard deviation), since an \"above-average\" country shouldn't count as a rich country.",
   "metadata": {
    "cell_id": "2df6bac7-7043-40e7-9043-e8e437e658fc",
    "tags": [],
    "deepnote_cell_type": "markdown"
   }
  },
  {
   "cell_type": "code",
   "source": "deviationTotalGDP = np.std(table[GDPCol] * table[populationCol])\nmeanTotalGDP = np.mean(table[GDPCol] * table[populationCol])\nrowsBelowAverage = table[ (table[lifeCol] < meanLife) & (table[GDPCol] * table[populationCol] > meanTotalGDP + deviationTotalGDP) ]\n\nprint(\"Countries with a low life expectancy but a high total GDP :\")\nrowsBelowAverage",
   "metadata": {
    "cell_id": "a2fb9c57-4a7d-4329-912e-51a4abbf65a3",
    "tags": [],
    "deepnote_to_be_reexecuted": false,
    "source_hash": "b04686df",
    "execution_start": 1642604599278,
    "execution_millis": 33,
    "deepnote_cell_type": "code"
   },
   "outputs": [
    {
     "name": "stdout",
     "text": "Countries with a low life expectancy but a high total GDP :\n",
     "output_type": "stream"
    },
    {
     "output_type": "execute_result",
     "execution_count": 4,
     "data": {
      "application/vnd.deepnote.dataframe.v3+json": {
       "column_count": 3,
       "row_count": 2,
       "columns": [
        {
         "name": "Population (historical estimates)",
         "dtype": "float64",
         "stats": {
          "unique_count": 2,
          "nan_count": 0,
          "min": "267670549.0",
          "max": "1352642283.0",
          "histogram": [
           {
            "bin_start": 267670549,
            "bin_end": 376167722.4,
            "count": 1
           },
           {
            "bin_start": 376167722.4,
            "bin_end": 484664895.8,
            "count": 0
           },
           {
            "bin_start": 484664895.8,
            "bin_end": 593162069.2,
            "count": 0
           },
           {
            "bin_start": 593162069.2,
            "bin_end": 701659242.6,
            "count": 0
           },
           {
            "bin_start": 701659242.6,
            "bin_end": 810156416,
            "count": 0
           },
           {
            "bin_start": 810156416,
            "bin_end": 918653589.4000001,
            "count": 0
           },
           {
            "bin_start": 918653589.4000001,
            "bin_end": 1027150762.8000001,
            "count": 0
           },
           {
            "bin_start": 1027150762.8000001,
            "bin_end": 1135647936.2,
            "count": 0
           },
           {
            "bin_start": 1135647936.2,
            "bin_end": 1244145109.6,
            "count": 0
           },
           {
            "bin_start": 1244145109.6,
            "bin_end": 1352642283,
            "count": 1
           }
          ]
         }
        },
        {
         "name": "Life expectancy",
         "dtype": "float64",
         "stats": {
          "unique_count": 2,
          "nan_count": 0,
          "min": "69.416",
          "max": "71.509",
          "histogram": [
           {
            "bin_start": 69.416,
            "bin_end": 69.6253,
            "count": 1
           },
           {
            "bin_start": 69.6253,
            "bin_end": 69.8346,
            "count": 0
           },
           {
            "bin_start": 69.8346,
            "bin_end": 70.0439,
            "count": 0
           },
           {
            "bin_start": 70.0439,
            "bin_end": 70.25319999999999,
            "count": 0
           },
           {
            "bin_start": 70.25319999999999,
            "bin_end": 70.4625,
            "count": 0
           },
           {
            "bin_start": 70.4625,
            "bin_end": 70.6718,
            "count": 0
           },
           {
            "bin_start": 70.6718,
            "bin_end": 70.8811,
            "count": 0
           },
           {
            "bin_start": 70.8811,
            "bin_end": 71.0904,
            "count": 0
           },
           {
            "bin_start": 71.0904,
            "bin_end": 71.2997,
            "count": 0
           },
           {
            "bin_start": 71.2997,
            "bin_end": 71.509,
            "count": 1
           }
          ]
         }
        },
        {
         "name": "GDP per capita",
         "dtype": "float64",
         "stats": {
          "unique_count": 2,
          "nan_count": 0,
          "min": "3.832923759525784",
          "max": "4.073782012884354",
          "histogram": [
           {
            "bin_start": 3.832923759525784,
            "bin_end": 3.857009584861641,
            "count": 1
           },
           {
            "bin_start": 3.857009584861641,
            "bin_end": 3.881095410197498,
            "count": 0
           },
           {
            "bin_start": 3.881095410197498,
            "bin_end": 3.905181235533355,
            "count": 0
           },
           {
            "bin_start": 3.905181235533355,
            "bin_end": 3.9292670608692117,
            "count": 0
           },
           {
            "bin_start": 3.9292670608692117,
            "bin_end": 3.953352886205069,
            "count": 0
           },
           {
            "bin_start": 3.953352886205069,
            "bin_end": 3.977438711540926,
            "count": 0
           },
           {
            "bin_start": 3.977438711540926,
            "bin_end": 4.001524536876783,
            "count": 0
           },
           {
            "bin_start": 4.001524536876783,
            "bin_end": 4.02561036221264,
            "count": 0
           },
           {
            "bin_start": 4.02561036221264,
            "bin_end": 4.049696187548497,
            "count": 0
           },
           {
            "bin_start": 4.049696187548497,
            "bin_end": 4.073782012884354,
            "count": 1
           }
          ]
         }
        },
        {
         "name": "_deepnote_index_column",
         "dtype": "object"
        }
       ],
       "rows": [
        {
         "Population (historical estimates)": 1352642283,
         "Life expectancy": 69.416,
         "GDP per capita": 3.832923759525784,
         "_deepnote_index_column": "India"
        },
        {
         "Population (historical estimates)": 267670549,
         "Life expectancy": 71.509,
         "GDP per capita": 4.073782012884354,
         "_deepnote_index_column": "Indonesia"
        }
       ]
      },
      "text/plain": "           Population (historical estimates)  Life expectancy  GDP per capita\nEntity                                                                       \nIndia                           1.352642e+09           69.416        3.832924\nIndonesia                       2.676705e+08           71.509        4.073782",
      "text/html": "<div>\n<style scoped>\n    .dataframe tbody tr th:only-of-type {\n        vertical-align: middle;\n    }\n\n    .dataframe tbody tr th {\n        vertical-align: top;\n    }\n\n    .dataframe thead th {\n        text-align: right;\n    }\n</style>\n<table border=\"1\" class=\"dataframe\">\n  <thead>\n    <tr style=\"text-align: right;\">\n      <th></th>\n      <th>Population (historical estimates)</th>\n      <th>Life expectancy</th>\n      <th>GDP per capita</th>\n    </tr>\n    <tr>\n      <th>Entity</th>\n      <th></th>\n      <th></th>\n      <th></th>\n    </tr>\n  </thead>\n  <tbody>\n    <tr>\n      <th>India</th>\n      <td>1.352642e+09</td>\n      <td>69.416</td>\n      <td>3.832924</td>\n    </tr>\n    <tr>\n      <th>Indonesia</th>\n      <td>2.676705e+08</td>\n      <td>71.509</td>\n      <td>4.073782</td>\n    </tr>\n  </tbody>\n</table>\n</div>"
     },
     "metadata": {}
    }
   ],
   "execution_count": 4
  },
  {
   "cell_type": "markdown",
   "source": "## g)\n\nWe used the same formula as above, but with a GDP per capita instead of the total GDP.\nThe table below shows the countries fulfilling this criteria.\n\nAs we can there are no countries in the result.\n\nWe can say that there are some countries which are cumulatively rich with a high total GDP, a high population but with a comperatively low life expectancy. If one instead considers the GDP per capita these countries aren't really rich anymore. This might indicate that all countries with a high GDP per capita also has a higher life expectancy. One could thus assume a connection between a higher GDP per capita and a higher life expectancy, but the connection does not exist when considering the total GDP of a country instead.",
   "metadata": {
    "cell_id": "b906ed2c-802b-479e-a4dd-898e5b899e32",
    "tags": [],
    "deepnote_cell_type": "markdown"
   }
  },
  {
   "cell_type": "code",
   "source": "rowsBelowAverage = table[ (table[lifeCol] < meanLife) & (table[GDPCol] > meanGDP + deviationGDP) ]\n\nprint(\"Countries with a low life expectancy but a high GDP per capita :\")\nrowsBelowAverage",
   "metadata": {
    "cell_id": "2f9b65e8-0fbf-452c-be9d-200bc839f555",
    "tags": [],
    "deepnote_to_be_reexecuted": false,
    "source_hash": "5a9a8d86",
    "execution_start": 1642604599314,
    "execution_millis": 24,
    "deepnote_cell_type": "code"
   },
   "outputs": [
    {
     "name": "stdout",
     "text": "Countries with a low life expectancy but a high GDP per capita :\n",
     "output_type": "stream"
    },
    {
     "output_type": "execute_result",
     "execution_count": 5,
     "data": {
      "application/vnd.deepnote.dataframe.v3+json": {
       "column_count": 3,
       "row_count": 0,
       "columns": [
        {
         "name": "Population (historical estimates)",
         "dtype": "float64",
         "stats": {
          "unique_count": 0,
          "nan_count": 0,
          "min": null,
          "max": null,
          "histogram": [
           {
            "bin_start": 0,
            "bin_end": 0.1,
            "count": 0
           },
           {
            "bin_start": 0.1,
            "bin_end": 0.2,
            "count": 0
           },
           {
            "bin_start": 0.2,
            "bin_end": 0.30000000000000004,
            "count": 0
           },
           {
            "bin_start": 0.30000000000000004,
            "bin_end": 0.4,
            "count": 0
           },
           {
            "bin_start": 0.4,
            "bin_end": 0.5,
            "count": 0
           },
           {
            "bin_start": 0.5,
            "bin_end": 0.6000000000000001,
            "count": 0
           },
           {
            "bin_start": 0.6000000000000001,
            "bin_end": 0.7000000000000001,
            "count": 0
           },
           {
            "bin_start": 0.7000000000000001,
            "bin_end": 0.8,
            "count": 0
           },
           {
            "bin_start": 0.8,
            "bin_end": 0.9,
            "count": 0
           },
           {
            "bin_start": 0.9,
            "bin_end": 1,
            "count": 0
           }
          ]
         }
        },
        {
         "name": "Life expectancy",
         "dtype": "float64",
         "stats": {
          "unique_count": 0,
          "nan_count": 0,
          "min": null,
          "max": null,
          "histogram": [
           {
            "bin_start": 0,
            "bin_end": 0.1,
            "count": 0
           },
           {
            "bin_start": 0.1,
            "bin_end": 0.2,
            "count": 0
           },
           {
            "bin_start": 0.2,
            "bin_end": 0.30000000000000004,
            "count": 0
           },
           {
            "bin_start": 0.30000000000000004,
            "bin_end": 0.4,
            "count": 0
           },
           {
            "bin_start": 0.4,
            "bin_end": 0.5,
            "count": 0
           },
           {
            "bin_start": 0.5,
            "bin_end": 0.6000000000000001,
            "count": 0
           },
           {
            "bin_start": 0.6000000000000001,
            "bin_end": 0.7000000000000001,
            "count": 0
           },
           {
            "bin_start": 0.7000000000000001,
            "bin_end": 0.8,
            "count": 0
           },
           {
            "bin_start": 0.8,
            "bin_end": 0.9,
            "count": 0
           },
           {
            "bin_start": 0.9,
            "bin_end": 1,
            "count": 0
           }
          ]
         }
        },
        {
         "name": "GDP per capita",
         "dtype": "float64",
         "stats": {
          "unique_count": 0,
          "nan_count": 0,
          "min": null,
          "max": null,
          "histogram": [
           {
            "bin_start": 0,
            "bin_end": 0.1,
            "count": 0
           },
           {
            "bin_start": 0.1,
            "bin_end": 0.2,
            "count": 0
           },
           {
            "bin_start": 0.2,
            "bin_end": 0.30000000000000004,
            "count": 0
           },
           {
            "bin_start": 0.30000000000000004,
            "bin_end": 0.4,
            "count": 0
           },
           {
            "bin_start": 0.4,
            "bin_end": 0.5,
            "count": 0
           },
           {
            "bin_start": 0.5,
            "bin_end": 0.6000000000000001,
            "count": 0
           },
           {
            "bin_start": 0.6000000000000001,
            "bin_end": 0.7000000000000001,
            "count": 0
           },
           {
            "bin_start": 0.7000000000000001,
            "bin_end": 0.8,
            "count": 0
           },
           {
            "bin_start": 0.8,
            "bin_end": 0.9,
            "count": 0
           },
           {
            "bin_start": 0.9,
            "bin_end": 1,
            "count": 0
           }
          ]
         }
        },
        {
         "name": "_deepnote_index_column",
         "dtype": "object"
        }
       ],
       "rows": []
      },
      "text/plain": "Empty DataFrame\nColumns: [Population (historical estimates), Life expectancy, GDP per capita]\nIndex: []",
      "text/html": "<div>\n<style scoped>\n    .dataframe tbody tr th:only-of-type {\n        vertical-align: middle;\n    }\n\n    .dataframe tbody tr th {\n        vertical-align: top;\n    }\n\n    .dataframe thead th {\n        text-align: right;\n    }\n</style>\n<table border=\"1\" class=\"dataframe\">\n  <thead>\n    <tr style=\"text-align: right;\">\n      <th></th>\n      <th>Population (historical estimates)</th>\n      <th>Life expectancy</th>\n      <th>GDP per capita</th>\n    </tr>\n    <tr>\n      <th>Entity</th>\n      <th></th>\n      <th></th>\n      <th></th>\n    </tr>\n  </thead>\n  <tbody>\n  </tbody>\n</table>\n</div>"
     },
     "metadata": {}
    }
   ],
   "execution_count": 5
  },
  {
   "cell_type": "markdown",
   "source": "# Question 2\n\n## a)\n\nWe have downloaded data for Corrruption and Happiness. \\\nSome of the questions we are going to investigate are:\n\n* Is corruption correlated to happiness?\n* How has the average GDP per capita of the world developed since 1900?\n* Does happiness and life expectancy share a similiar distribution?\n* Is corruption correlated to GDP?\n\n\n",
   "metadata": {
    "cell_id": "05fb1222-fc29-49b4-9394-3bc134df1dbe",
    "tags": [],
    "deepnote_cell_type": "markdown"
   }
  },
  {
   "cell_type": "code",
   "source": "lifeGDPTable = table\n\ncorruptionCol = \"Corruption Perception Index - Transparency International (2018)\"\ncorruptionTable = pd.read_csv(\"./corruption.csv\")[[entityCol, yearCol, corruptionCol]]\n\nhappinessCol = \"Life satisfaction in Cantril Ladder (World Happiness Report 2021)\"\nhappinessTable = pd.read_csv(\"./happiness.csv\")[[entityCol, yearCol, happinessCol]]\n\n# Only select rows for the year 2018\ncorruptionTable = corruptionTable[ corruptionTable[yearCol] == 2018 ].dropna()\nhappinessTable = happinessTable[ happinessTable[yearCol] == 2018 ].dropna()\n\ndel corruptionTable[yearCol]\ndel happinessTable[yearCol]\nhappinessTable = happinessTable.set_index(entityCol)\ncorruptionTable = corruptionTable.set_index(entityCol)\n\n# Create merged tables. We create multiple tables to avoid discarding data entries in cases where it's unnecessary\ncorruptionHappinessTable = pd.merge(corruptionTable, happinessTable, on=entityCol)\n# corruptionLifeTable = pd.merge(corruptionTable, lifeGDPTable, on=entityCol)\nhappinessLifeTable = pd.merge(happinessTable, lifeGDPTable, on=entityCol)\ncorruptionGDPTable = pd.merge(corruptionTable, lifeGDPTable, on=entityCol)\n",
   "metadata": {
    "cell_id": "b6838c56-8af4-4b46-95fe-c43f31c5ded0",
    "tags": [],
    "deepnote_to_be_reexecuted": false,
    "source_hash": "3894e083",
    "execution_start": 1642608345586,
    "execution_millis": 0,
    "deepnote_cell_type": "code"
   },
   "outputs": [],
   "execution_count": 85
  },
  {
   "cell_type": "code",
   "source": "plt.title(\"Corruption vs happiness (2018)\")\nplt.xlabel(\"Corruption - Scale 0-100, (0 means that a country is perceived as highly corrupt)\")\nplt.ylabel(\"Happiness - Scale 0-10, (0 means low happiness)\")\nplt.scatter(corruptionHappinessTable[corruptionCol], corruptionHappinessTable[happinessCol])\nplt.show()\n",
   "metadata": {
    "cell_id": "36cee3de-6e42-4901-9bd0-7ddbd76f8e1d",
    "tags": [],
    "deepnote_to_be_reexecuted": false,
    "source_hash": "d51c75a3",
    "execution_start": 1642608152978,
    "execution_millis": 212,
    "deepnote_output_heights": [
     280,
     280
    ],
    "deepnote_cell_type": "code"
   },
   "outputs": [
    {
     "data": {
      "text/plain": "<Figure size 432x288 with 1 Axes>",
      "image/png": "[encoded data removed]"
     },
     "metadata": {
      "needs_background": "light",
      "image/png": {
       "width": 417,
       "height": 278
      }
     },
     "output_type": "display_data"
    }
   ],
   "execution_count": 64
  },
  {
   "cell_type": "markdown",
   "source": "##### Is corruption correlated to happiness?\nFrom the graph we can see that there seems to be a correlation between happiness and corruption where happiness increases as the corruption decreases.\nOne should be wary of \"Correlation does not mean causation\"´however since we are aware of the data we are dealing with and the premise the correlation implies is logical (Less corruption implies higher happiness) there might be a connection here. Although, we are biased since we are actively looking for a pattern and might have pre-concieved ideas of what we expect to see. \nNonetheless there might be a connection worth exploring here. ",
   "metadata": {
    "cell_id": "285b5fbf-195a-4dac-a368-c3f97a60adfe",
    "tags": [],
    "deepnote_cell_type": "markdown"
   }
  },
  {
   "cell_type": "code",
   "source": "GDPTable = pd.read_csv(\"./life-expectancy-vs-gdp-per-capita.csv\")[[yearCol, GDPCol]]\nGDPTable = GDPTable[GDPTable[yearCol] >= 1900].dropna()\navgGDPByYear = GDPTable.groupby(yearCol).mean()\n\nplt.title(\"GDP per capita evolution\")\nplt.xlabel(\"Year, from 1900 to 2020\")\nplt.ylabel(\"Average GDP per capita\")\nplt.plot(avgGDPByYear.index, avgGDPByYear[GDPCol], linewidth=3, color=\"red\")\nplt.show()\n",
   "metadata": {
    "cell_id": "b4639c6b-9b68-4314-8a9f-b990ed3ce13c",
    "tags": [],
    "deepnote_to_be_reexecuted": false,
    "source_hash": "3dffa578",
    "execution_start": 1642609669990,
    "execution_millis": 619,
    "deepnote_table_state": {
     "pageSize": 10,
     "pageIndex": 0,
     "filters": [],
     "sortBy": []
    },
    "deepnote_table_loading": false,
    "deepnote_output_heights": [
     280,
     254
    ],
    "deepnote_cell_type": "code"
   },
   "outputs": [
    {
     "data": {
      "text/plain": "<Figure size 432x288 with 1 Axes>",
      "image/png": "[encoded data removed]"
     },
     "metadata": {
      "needs_background": "light",
      "image/png": {
       "width": 404,
       "height": 278
      }
     },
     "output_type": "display_data"
    }
   ],
   "execution_count": 120
  },
  {
   "cell_type": "markdown",
   "source": "##### How has the average GDP per capita of the world developed since 1900?\nWe can see the first dip between 1900 and 1920 probably representing the ecomomic effect of the first world war. We can also see the the economic effect of the second world war slightly later. Futhermore we can see the economic crisis of 2008 represented as a dip in the graph.\n\nThe interesting thing about a graph like this is that the context of history is really reflected by the graph.\n\n",
   "metadata": {
    "cell_id": "abde57da-3acd-42ed-b12b-88dae7b39d8c",
    "tags": [],
    "deepnote_cell_type": "markdown"
   }
  },
  {
   "cell_type": "code",
   "source": "# Happiness and life expectancy distribution\n\nplt.violinplot(happinessLifeTable[happinessCol], showmedians=True)\nplt.title(\"Distribution of life satisfaction\")\nplt.xlabel(\"Distribution\")\nplt.ylabel(\"Life satisfaction in Cantril Ladder\")\nplt.show()\n\nplt.violinplot(lifeGDPTable[lifeCol], showmedians=True)\nplt.title(\"Distribution of life expectancy\")\nplt.xlabel(\"Distribution\")\nplt.ylabel(\"Life expectancy, in years\")\nplt.show()",
   "metadata": {
    "cell_id": "370236cc-354a-49be-9824-4d7a500cd0d0",
    "tags": [],
    "deepnote_to_be_reexecuted": false,
    "source_hash": "8a267a4e",
    "execution_start": 1642608171305,
    "execution_millis": 407,
    "deepnote_output_heights": [
     280,
     280
    ],
    "deepnote_cell_type": "code"
   },
   "outputs": [
    {
     "data": {
      "text/plain": "<Figure size 432x288 with 1 Axes>",
      "image/png": "[encoded data removed]"
     },
     "metadata": {
      "needs_background": "light",
      "image/png": {
       "width": 376,
       "height": 278
      }
     },
     "output_type": "display_data"
    },
    {
     "data": {
      "text/plain": "<Figure size 432x288 with 1 Axes>",
      "image/png": "[encoded data removed]"
     },
     "metadata": {
      "needs_background": "light",
      "image/png": {
       "width": 382,
       "height": 278
      }
     },
     "output_type": "display_data"
    }
   ],
   "execution_count": 65
  },
  {
   "cell_type": "markdown",
   "source": "##### Does happiness and life expectancy share a similiar distribution?\nAs we can see above, while the happiness has a distribution that almost look like a bell curve, the life expectancy one has is offset towards late death. \\\nWe can assume that, while the life satisfaction is evenly distributed across all populations, life expectancy is not evenly balanced across the globe.",
   "metadata": {
    "cell_id": "9dfc8429-23af-4299-8122-f7df1dbb76b0",
    "tags": [],
    "deepnote_cell_type": "markdown"
   }
  },
  {
   "cell_type": "code",
   "source": "# Corruption and GDP\n\nx = corruptionGDPTable[corruptionCol]\n\ny = corruptionGDPTable[GDPCol]\ny -= min(y)\ny *= 100 / max(y)\n# We dilate and offset the GDP per capita to compare with the corruption level between 0 and 100\n\nbins = np.linspace(0, 100, 50)\n\nplt.hist(x, bins, alpha=0.5, label=\"Corruption level\")\nplt.hist(y, bins, alpha=0.5, label=\"GDP per capita\")\nplt.legend(loc=\"upper right\")\nplt.show()",
   "metadata": {
    "cell_id": "757cf2bd-895f-4bf0-b577-e75417bd73ff",
    "tags": [],
    "deepnote_to_be_reexecuted": false,
    "source_hash": "be603249",
    "execution_start": 1642608447976,
    "execution_millis": 457,
    "deepnote_output_heights": [
     250,
     280
    ],
    "deepnote_cell_type": "code"
   },
   "outputs": [
    {
     "data": {
      "text/plain": "<Figure size 432x288 with 1 Axes>",
      "image/png": "[encoded data removed]"
     },
     "metadata": {
      "needs_background": "light",
      "image/png": {
       "width": 368,
       "height": 248
      }
     },
     "output_type": "display_data"
    }
   ],
   "execution_count": 95
  },
  {
   "cell_type": "markdown",
   "source": "##### Is corruption correlated to GDP?\nAs we can see above, the corruption level hits a spike for the poorer countries, but then gets lower as the GDP increase.\nStill, we can notice that the corruption level gets higher again for the top countries, the ones with a huge-scale economy.",
   "metadata": {
    "cell_id": "0780e3dd-d361-4d15-956f-1742910437b1",
    "tags": [],
    "deepnote_cell_type": "markdown"
   }
  },
  {
   "cell_type": "markdown",
   "source": "<a style='text-decoration:none;line-height:16px;display:flex;color:#5B5B62;padding:10px;justify-content:end;' href='https://deepnote.com?utm_source=created-in-deepnote-cell&projectId=ab83f1d1-4f39-4251-b899-1ad25d544179' target=\"_blank\">\n<img alt='Created in deepnote.com' style='display:inline;max-height:16px;margin:0px;margin-right:7.5px;' src='data:image/svg+xml;base64,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' > </img>\nCreated in <span style='font-weight:600;margin-left:4px;'>Deepnote</span></a>",
   "metadata": {
    "tags": [],
    "created_in_deepnote_cell": true,
    "deepnote_cell_type": "markdown"
   }
  }
 ],
 "nbformat": 4,
 "nbformat_minor": 2,
 "metadata": {
  "orig_nbformat": 2,
  "deepnote": {
   "is_reactive": false
  },
  "deepnote_notebook_id": "b902f136-8e7f-438a-8990-25b1614bef94",
  "deepnote_execution_queue": []
 }
}