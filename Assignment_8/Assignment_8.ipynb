{
 "cells": [
  {
   "cell_type": "markdown",
   "metadata": {
    "cell_id": "546ed840-946c-4c83-9170-d26798c77bf5",
    "deepnote_cell_height": 169.60000610351562,
    "deepnote_cell_type": "markdown",
    "tags": [],
    "id": "KPhHTdquSv16"
   },
   "source": [
    "## Group 25 \n",
    "### *Redacted due to web crawlers*, 4h\n",
    "### *Redacted due to web crawlers*, 4h"
   ]
  },
  {
   "cell_type": "markdown",
   "metadata": {
    "cell_id": "edea9884-533f-488d-959b-c8ec6566f239",
    "deepnote_cell_height": 370,
    "deepnote_cell_type": "markdown",
    "tags": [],
    "id": "OFKq5c__Sv1_"
   },
   "source": [
    "# 1)\n",
    "## a)\n",
    "\n",
    "The maximum number of BFS iterations (worst case) is equal to `d^r`.\n",
    "It cannot be higher, because it would mean either there is a node with more than `d` children,\n",
    "which is not possible by definition, or we explore further than `r` unit of distance, which is again\n",
    "impossible by design as BFS search \"depth-after-depth\", i.e. it is not possible to be in a state\n",
    "where we are looking at a path with a length `r + 1` if the solution has a length `r`.\n",
    "\n",
    "## b)\n",
    "\n",
    "As we said above, at a distance `r` we get at worst `d^r` nodes,\n",
    "so we need to be able to store `r * d^r` unit of memory,\n",
    "since each path takes `r` memory units from root to the final node."
   ]
  },
  {
   "cell_type": "markdown",
   "metadata": {
    "cell_id": "98f2b7ed-e530-46b4-a5e5-7bb5272bf044",
    "deepnote_cell_height": 81.60000610351562,
    "deepnote_cell_type": "markdown",
    "tags": [],
    "id": "UgeR0iy0Sv2C"
   },
   "source": [
    "# 2)\n"
   ]
  },
  {
   "cell_type": "markdown",
   "metadata": {
    "cell_id": "0b6b2f01-d199-4b33-834d-1728c52e9957",
    "deepnote_cell_height": 52,
    "deepnote_cell_type": "markdown",
    "tags": [],
    "id": "ZCY18-fHSv2F"
   },
   "source": [
    "The following configuration will cause a deadlock assuming the DFS is revisiting nodes:"
   ]
  },
  {
   "cell_type": "markdown",
   "metadata": {
    "cell_id": "fe55097e-3705-44ba-b74f-808b212dd2e5",
    "deepnote_cell_height": 285.6000061035156,
    "deepnote_cell_type": "markdown",
    "tags": [],
    "id": "95fxd3VdSv2H"
   },
   "source": [
    "![Answer](image-20220309-094554.png)"
   ]
  },
  {
   "cell_type": "markdown",
   "metadata": {
    "cell_id": "04a9183a-1581-45ed-ac65-79bea5b67a71",
    "deepnote_cell_height": 155.60000610351562,
    "deepnote_cell_type": "markdown",
    "tags": [],
    "id": "sSh5SuM_Sv2J"
   },
   "source": [
    "It will first travel from 0 -> 3 and 3 -> 4 since there are no other optional paths.\n",
    "Then, since both paths have the same weight, it will look at the label and see `1 < 2`, thus traveling upwards to node 1. From node 1 there is only one option down: 1 -> 3.\n",
    "Now we are back at where we were before and by taking 3 -> 4 we end up at the same situation of `1 < 2` thus taking the path of 4 -> 1 once again. We are now stuck in a loop. The same issue arises if the label of node 3 and 4 switch places.\n",
    "\n",
    "We can avoid this issue by keeping track of visited nodes and not pass by a visited node again when exploring in depth."
   ]
  },
  {
   "cell_type": "markdown",
   "metadata": {
    "cell_id": "da6f2d58-7bb6-4ff7-aeea-c394757fad5d",
    "deepnote_cell_height": 117.60000610351562,
    "deepnote_cell_type": "markdown",
    "tags": [],
    "id": "nVKKcE5ESv2L"
   },
   "source": [
    "## 3)\n",
    "### a)\n"
   ]
  },
  {
   "cell_type": "markdown",
   "metadata": {
    "cell_id": "0e84bbad-b1ac-4c40-b2fb-b9e5321efe16",
    "deepnote_cell_height": 616.9000244140625,
    "deepnote_cell_type": "markdown",
    "tags": [],
    "id": "dnUnxFSQSv2M"
   },
   "source": [
    "![Picture title](image-20220309-103947.png)"
   ]
  },
  {
   "cell_type": "markdown",
   "metadata": {
    "cell_id": "0c664ef7-6064-4365-ab86-211b7fb74944",
    "deepnote_cell_height": 122.39999389648438,
    "deepnote_cell_type": "markdown",
    "tags": [],
    "id": "6kkjylq6Sv2O"
   },
   "source": [
    "### b)\n",
    "\n",
    "A possible heuristic could be trying to minimize the number of labels left to cover or in other words prioritze decisions covering as many required labels as possible."
   ]
  },
  {
   "cell_type": "markdown",
   "metadata": {
    "cell_id": "98cf9f8a-9368-4de1-be2d-cd27e3a7f584",
    "deepnote_cell_height": 198.39999389648438,
    "deepnote_cell_type": "markdown",
    "tags": [],
    "id": "3YfDBcupSv2Q"
   },
   "source": [
    "# 4)\n",
    "## a)\n",
    "The Lexicographical index is denoted by the number in the top left corner or each square.\n",
    "The large number in the squares are the order the first `5` steps are taken \n",
    "\n"
   ]
  },
  {
   "cell_type": "markdown",
   "metadata": {
    "cell_id": "c1e081d8-efd6-4db8-aeaa-f8e0e885b0c8",
    "deepnote_cell_height": 591.5999755859375,
    "deepnote_cell_type": "markdown",
    "tags": [],
    "id": "UAX7nYJ2Sv2S"
   },
   "source": [
    "![Picture title](image-20220309-111414.png)"
   ]
  },
  {
   "cell_type": "markdown",
   "metadata": {
    "cell_id": "612c152f-cf99-479c-9024-1ece97445e89",
    "deepnote_cell_height": 186.39999389648438,
    "deepnote_cell_type": "markdown",
    "tags": [],
    "id": "aeKadQRsSv2T"
   },
   "source": [
    "Step `1` taken is upward due to the Manhattan heuristic indicating the best path (manhattan distance from goal: 3). \\\n",
    "Step `2` is taken for the same reason as it's closest to the goal (distance from goal: 2). \\\n",
    "Step `3` is also taken due to the Manhattan heurisitc indicating the shortest path (manhattan distance from goal: 4).\\\n",
    "Step `4` is taken as there is a tie between the Manhattan distance calculated from index `38`,`46` and `52` (manhattan distance from goal: 5). The lowest index is picked, i.e. `38` is step `4`. \\\n",
    "Step `5` is taken as there is no new better path and the same deadlock remains between index `46` and `52`. Thus, once again, the lowest index is picked, i.e. `46`."
   ]
  },
  {
   "cell_type": "markdown",
   "metadata": {
    "cell_id": "a40f8361-ecd9-48b9-932e-32ba539b735f",
    "deepnote_cell_height": 382.3999938964844,
    "deepnote_cell_type": "markdown",
    "tags": [],
    "id": "Y7W1_pYYSv2V"
   },
   "source": [
    "## b)\n",
    "\n",
    "The BFS algorithm is greedy and fairly basic, as it doesn't use any hint and will explore a lot of cells, even in spaces that are probably unrelated to the goal. An advantage would still be that it explores all possible path and cannot miss anything in its radius of action. It is the slowest, though.\n",
    "\n",
    "Best-first-search is greedy as well, but this time it uses an heuristic and tries to minimize the distance with the goal. It works really well with a straightforward path with the objective in clear view, and will even go straight to the goal, but it has some limits. While it isn't visible here, best-first-search algorithm doesn't take into account the possible weights. And, in situations where the algorithm has to backtrack, it \"panics\" and act as a BFS, with all its drawbacks. In our initial example, it was the fastest, with very little overhead. It can also be tricked into taking longer paths, since a path that can first seem better could actually be worse (example: a small obstacle on the left at the beginning vs a big obstacle on the right at the end).\n",
    "\n",
    "Finally, A* uses heuristics and possibly weights to find the best solution. It has no problems backtracking if it is trapped against walls, and is guaranteed to find a solution at some point. It will also avoid exploring expensive and less important regions. Unlike best-first-search, it is able to follow several paths in parallel but, unline BFS, it only follows paths that seems short."
   ]
  },
  {
   "cell_type": "markdown",
   "metadata": {
    "cell_id": "ef18134d-2292-4910-aec8-4db618301fe6",
    "deepnote_cell_height": 445.6000061035156,
    "deepnote_cell_type": "markdown",
    "tags": [],
    "id": "xy9_FgckSv2X"
   },
   "source": [
    "![Best first search](image-20220309-110431.png)"
   ]
  },
  {
   "cell_type": "markdown",
   "metadata": {
    "cell_id": "24f87f68-ca8c-4ba9-a937-4d1aed4e1203",
    "deepnote_cell_height": 52,
    "deepnote_cell_type": "markdown",
    "tags": [],
    "id": "4lKpEpRuSv2X"
   },
   "source": [
    "BFS"
   ]
  },
  {
   "cell_type": "markdown",
   "metadata": {
    "cell_id": "1eab765f-dbdf-4978-8fef-b4c51b2057be",
    "deepnote_cell_height": 782.5999755859375,
    "deepnote_cell_type": "markdown",
    "tags": [],
    "id": "VoJC8scmSv2Y"
   },
   "source": [
    "![BFS](image-20220309-110438.png)"
   ]
  },
  {
   "cell_type": "markdown",
   "metadata": {
    "cell_id": "b1560ef1-a646-4b12-82cc-e9196da67334",
    "deepnote_cell_height": 52,
    "deepnote_cell_type": "markdown",
    "tags": [],
    "id": "tGURPPZ9Sv2Y"
   },
   "source": [
    "A*"
   ]
  },
  {
   "cell_type": "markdown",
   "metadata": {
    "cell_id": "fddb9a94-3783-477b-b8c0-860809585032",
    "deepnote_cell_height": 480.6000061035156,
    "deepnote_cell_type": "markdown",
    "tags": [],
    "id": "rcwmL-LVSv2Z"
   },
   "source": [
    "![A*](image-20220309-110446.png)"
   ]
  },
  {
   "cell_type": "markdown",
   "metadata": {
    "cell_id": "0776162a-081e-408f-8b79-f670a8234c97",
    "deepnote_cell_height": 52,
    "deepnote_cell_type": "markdown",
    "tags": [],
    "id": "3L4WBOMKSv2a"
   },
   "source": [
    "Best-first-search other example"
   ]
  },
  {
   "cell_type": "markdown",
   "metadata": {
    "cell_id": "71114a2b-35e7-4721-8771-01119497f541",
    "deepnote_cell_height": 684.36669921875,
    "deepnote_cell_type": "markdown",
    "tags": [],
    "id": "mj7inzBJSv2a"
   },
   "source": [
    "![Picture title](image-20220309-111347.png)"
   ]
  },
  {
   "cell_type": "markdown",
   "metadata": {
    "cell_id": "9af4b71e-e9c3-4193-8a55-ef4d0a8c6072",
    "deepnote_cell_height": 52,
    "deepnote_cell_type": "markdown",
    "tags": [],
    "id": "e5lFrSUlSv2b"
   },
   "source": [
    "A* other example"
   ]
  },
  {
   "cell_type": "markdown",
   "metadata": {
    "cell_id": "5f013223-45dc-4eb5-80c9-d99fe9fe6c00",
    "deepnote_cell_height": 666.5999755859375,
    "deepnote_cell_type": "markdown",
    "tags": [],
    "id": "c_gcOXddSv2b"
   },
   "source": [
    "![Picture title](image-20220309-111456.png)"
   ]
  },
  {
   "cell_type": "markdown",
   "metadata": {
    "cell_id": "4952cf52-8038-44d3-8be3-68c1e1fa03fe",
    "deepnote_cell_height": 104,
    "deepnote_cell_type": "markdown",
    "tags": [],
    "id": "K7cXNJtrSv2c"
   },
   "source": [
    "Best-first-search failing to find the shortest path. Note that A* found it."
   ]
  },
  {
   "cell_type": "markdown",
   "metadata": {
    "cell_id": "5f773af8-8f83-4836-8315-0606cf9febf5",
    "deepnote_cell_height": 520.5999755859375,
    "deepnote_cell_type": "markdown",
    "tags": [],
    "id": "PKaXrMHuSv2d"
   },
   "source": [
    "![Picture title](image-20220309-113302.png)"
   ]
  },
  {
   "cell_type": "markdown",
   "metadata": {
    "created_in_deepnote_cell": true,
    "deepnote_cell_type": "markdown",
    "tags": [],
    "id": "EYVPkqJYSv2d"
   },
   "source": [
    "<a style='text-decoration:none;line-height:16px;display:flex;color:#5B5B62;padding:10px;justify-content:end;' href='https://deepnote.com?utm_source=created-in-deepnote-cell&projectId=ab83f1d1-4f39-4251-b899-1ad25d544179' target=\"_blank\">\n",
    "<img alt='Created in deepnote.com' style='display:inline;max-height:16px;margin:0px;margin-right:7.5px;' src='data:image/svg+xml;base64,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' > </img>\n",
    "Created in <span style='font-weight:600;margin-left:4px;'>Deepnote</span></a>"
   ]
  }
 ],
 "metadata": {
  "deepnote": {
   "is_reactive": false
  },
  "deepnote_execution_queue": [],
  "deepnote_notebook_id": "00e6bdd6-9636-4572-9a55-1504b5e50bea",
  "kernelspec": {
   "display_name": "Python 3 (ipykernel)",
   "language": "python",
   "name": "python3"
  },
  "language_info": {
   "codemirror_mode": {
    "name": "ipython",
    "version": 3
   },
   "file_extension": ".py",
   "mimetype": "text/x-python",
   "name": "python",
   "nbconvert_exporter": "python",
   "pygments_lexer": "ipython3",
   "version": "3.10.0"
  },
  "colab": {
   "name": "Assignment_8.ipynb",
   "provenance": []
  }
 },
 "nbformat": 4,
 "nbformat_minor": 0
}