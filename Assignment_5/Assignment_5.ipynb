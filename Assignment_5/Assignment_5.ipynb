{
 "cells": [
  {
   "cell_type": "markdown",
   "source": "$\\qquad$ $\\qquad$$\\qquad$  **DAT405 Introduction to Data Science and AI, 2019-2020, Reading Period 3** <br />\n$\\qquad$ $\\qquad$$\\qquad$                   **Assignment 5: Reinforcement learning and Classification 2** <br />\n$\\qquad$ $\\qquad$$\\qquad$                   **Grader: Newton** <br />\n$\\qquad$ $\\qquad$$\\qquad$                     **Due Date: 23rd February, 23:59** <br />\n$\\qquad$ $\\qquad$$\\qquad$                   **Submitted by: Romain Theodet, 010911XXXX, theodet@student.chalmers.se** <br />\n$\\qquad$ $\\qquad$$\\qquad$                   **Submitted by: Olof Sjögren, ?, ?** <br />\n\n---\n\n\nGeneral guidelines:\n*   All solutions to theoretical and pratical problems must be submitted in this ipynb notebook, and equations wherever required, should be formatted using LaTeX math-mode.\n*   All discussion regarding practical problems, along with solutions and plots should be specified in this notebook. All plots/results should be visible such that the notebook do not have to be run. But the code in the notebook should reproduce the plots/results if we choose to do so.\n*   Your name, personal number and email address should be specified above.\n*   All tables and other additional information should be included in this notebook.\n*   Before submitting, make sure that your code can run on another computer. That all plots can show on another computer including all your writing. It is good to check if your code can run here: https://colab.research.google.com.\n",
   "metadata": {
    "cell_id": "8e862295-957a-4ba9-82d7-969613920b42",
    "deepnote_cell_type": "markdown"
   }
  },
  {
   "cell_type": "markdown",
   "source": "Self-check \n1. Have you answered all questions to the best of your ability? \n2. Anything else you can easily check? (details, terminology, arguments, commenting for code etc.?) \n\nGrading will be based on a qualitative assessment of each assignment. It is important to:\n*\tPresent clear arguments\n*\tPresent the results in a pedagogical way\n*\tShow understanding of the topics (e.g, write a pseudocode) \n*\tGive correct solutions\n*\tMake sure that the code is well commented \n\n**Again, as mentioned in general guidelines, all code should be written here. And this same ipython notebook file (RLAssignment.ipynb) should be submitted with answers and code written in it. NO SEPERATE FILE SHALL BE ACCEPTED.** \n",
   "metadata": {
    "cell_id": "00001-b9fb9c11-bbba-4d99-aecd-930b3905a7ec",
    "deepnote_cell_type": "markdown"
   }
  },
  {
   "cell_type": "markdown",
   "source": "# Primer\n\n## Decision Making\nThe problem of **decision making under uncertainty** (commonly known as **reinforcement learning**) can be broken down into\ntwo parts. First, how do we learn about the world? This involves both the\nproblem of modeling our initial uncertainty about the world, and that of drawing conclusions from evidence and our initial belief. Secondly, given what we\ncurrently know about the world, how should we decide what to do, taking into\naccount future events and observations that may change our conclusions?\nTypically, this will involve creating long-term plans covering possible future\neventualities. That is, when planning under uncertainty, we also need to take\ninto account what possible future knowledge could be generated when implementing our plans. Intuitively, executing plans which involve trying out new\nthings should give more information, but it is hard to tell whether this information will be beneficial. The choice between doing something which is already\nknown to produce good results and experiment with something new is known\nas the **exploration-exploitation dilemma**.\n\n## The exploration-exploitation trade-off\n\nConsider the problem of selecting a restaurant to go to during a vacation.Lets say the\nbest restaurant you have found so far was **Les Epinards**. The food there is\nusually to your taste and satisfactory. However, a well-known recommendations\nwebsite suggests that **King’s Arm** is really good! It is tempting to try it out. But\nthere is a risk involved. It may turn out to be much worse than **Les Epinards**,\nin which case you will regret going there. On the other hand, it could also be\nmuch better. What should you do?\nIt all depends on how much information you have about either restaurant,\nand how many more days you’ll stay in town. If this is your last day, then it’s\nprobably a better idea to go to **Les Epinards**, unless you are expecting **King’s\nArm** to be significantly better. However, if you are going to stay there longer,\ntrying out **King’s Arm** is a good bet. If you are lucky, you will be getting much\nbetter food for the remaining time, while otherwise you will have missed only\none good meal out of many, making the potential risk quite small.",
   "metadata": {
    "cell_id": "00002-cb26cf3b-24c7-4ed2-a65a-5dbcbfea876a",
    "deepnote_cell_type": "markdown"
   }
  },
  {
   "cell_type": "markdown",
   "source": "## Overview\n* To make things concrete, we will first focus on decision making under **no** uncertainity, i.e, given we have a world model, we can calculate the exact and optimal actions to take in it. We shall first introduce **Markov Decision Process (MDP)** as the world model. Then we give one algorithm (out of many) to solve it.\n\n\n* Next, we will work through one type of reinforcement learning algorithm called Q-learning. Q-learning is an algorithm for making decisions under uncertainity, where uncertainity is over the possible world model (here MDP). It will find the optimal policy for the **unknown** MDP, assuming we do infinite exploration.",
   "metadata": {
    "cell_id": "00003-712ac602-4d88-48e8-94e0-4c004ed8aa4a",
    "deepnote_cell_type": "markdown"
   }
  },
  {
   "cell_type": "markdown",
   "source": "## Markov Decision Process",
   "metadata": {
    "cell_id": "00004-25a15b5a-2c6b-46d5-a54d-06bc45959a30",
    "deepnote_cell_type": "markdown"
   }
  },
  {
   "cell_type": "markdown",
   "source": "Markov Decision Process (MDP) provides a mathematical framework for modeling decision-making. It is a discrete time (distinct points in time) stochastic (randomly determined) process.\n\nMDPs are made up of 4 parts:  \nS: Finite set of states (Ex: s<sub>1</sub>, s<sub>2</sub> ... s<sub>N</sub>)  \nA: Finite set of actions (Ex: North, South, East, West)  \nP<sub>a</sub>(s,s'): Probability that action *a* in state *s* at time *t* will lead to state *s'* at time *t + 1*  \nR<sub>a</sub>(s,s'): Immediate reward received after moving from state *s* to state *s'* by action *a*\n\nAn agent acts in an MDP at time *t*, by taking certain action *a* in state *s*, going to state *s'*, and getting a reward *r* from the world. It then repeats the process for certain no. of times, either finite or infinite.\n\nWe also include a $5^{th}$ part in the description of an MDP called Gamma $\\gamma$.  \n$\\gamma$: The discount factor between 0 (inclusive) and 1 (exclusive). This determines how much credit you want to give to the future. If you think that the future reward is as important as the current reward you would set this to 0.99999. If you don't care about the future rewards you would set this to 0 and you only care about the current reward. For example, if your discount factor is 0.8 and after 5 steps you get a reward of 4 the present value of that reward is $0.8^4 * 5$ or ~2.\n\nAn MDP is a collection of states such that each state has a selection of actions associated with them. With each state-action pair comes a reward *r* (can be 0). Define a policy function: $\\pi: s \\rightarrow a$, which tells which action to take at each state.\n  \nWe now use the famous dynamic programming equation, also known as Bellman Equation, to define optimality in an MDP. The following equation defines what we call the **value function** of state *s* following some fixed policy $\\pi$:  \n\n$$V^\\pi(s) = \\sum_{s'} P_{\\pi(s)}(s,s') [R_{\\pi(s)}(s,s') + \\gamma V^\\pi(s')]$$\n\nWe call $V^\\pi$ as the value of policy $\\pi$.  \n  \nNow, to find the **optimal** policy you will need to find the action that gives the highest reward.  \n\n$$V^*(s) = max_a \\sum_{s'} P_a(s,s') [R_a(s,s') + \\gamma V^*(s')]$$\n\nA real world example would be an inventory control system. Your states would be the amount of items you have in stock. Your actions would be the amount to order. The discrete time would be the days of the month. The reward would be the profit.  \n\nA major drawback of MDPs is called the \"Curse of Dimensionality\". This states that the more states/actions you have the more computational difficult it is to solve.   \n",
   "metadata": {
    "cell_id": "00005-36fe7cac-24bf-42d2-8d40-d38cd0d3ef80",
    "deepnote_cell_type": "markdown"
   }
  },
  {
   "cell_type": "markdown",
   "source": "## Question 1 (1 point)",
   "metadata": {
    "cell_id": "00006-3f563101-4dce-42c8-8b2a-8b5d2915dbfc",
    "deepnote_cell_type": "markdown"
   }
  },
  {
   "cell_type": "markdown",
   "source": "For the first question of the notebook, we give a quick example of an MDP. We would to see if you can put the definitions above into practice.\n\n**Question a**: Given the following deterministic MDP (you select North, you move North), what is the optimal policy (path with the most points)?\n  \n*Notes*:  \n  * The number in the box is the reward.  \n  * Once you hit the end you are done. (Absorbing state)\n  * S is the starting point.  \n  * F is the ending point.  \n  * Use N for North, E for East, S for South, and W for West. Not all actions are available at each state, for example, you can't choose N and W at starting state, as there exists no valid next states in those directions.  \n  * Pass the directions as a single string. Ex: ESWN will make a circle.  \n  \n\n\n| | | |\n|----------|----------|---------|\n|S|1|1|\n|1 |0|1|  \n|-1|-1|0|  \n|0 |0|F|",
   "metadata": {
    "cell_id": "00007-82f3bd7d-8149-41ea-9cb2-66227218eed2",
    "deepnote_cell_type": "markdown"
   }
  },
  {
   "cell_type": "markdown",
   "source": "Question b,c will attempt to firm up your knowledge of the parts of an MDP. Just remember that for a state denoted by (x,y), state N/E/S/W to that are (x,y-1),(x+1,y),(x,y+1),(x-1,y) respectively. We take (0,0) as the starting state S.\n\n**Question b:** What is the probability of going from state (1,0) to state (2,0) using action E ? ( i.e,  $P_E((1,0),(2,0))$ )\n\n**Question c:** What is the reward for moving from state (1,0) to state (2,0) ? ( i.e, $R_E((1,0),(2,0))$ )",
   "metadata": {
    "cell_id": "00008-e5e75e44-818a-403b-8b14-c19925f8aa3a",
    "deepnote_cell_type": "markdown"
   }
  },
  {
   "cell_type": "markdown",
   "source": "## Value Iteration",
   "metadata": {
    "cell_id": "00009-84e1c071-aa9f-436f-b3c4-ed5e9a89bc3e",
    "deepnote_cell_type": "markdown"
   }
  },
  {
   "cell_type": "markdown",
   "source": "The value iteration is one algorithm that can be used to find the optimal policy ($\\pi^*$). Note that for any policy $\\pi^*$ to be optimal, it must satisfy the Bellman equation for optimal value function $V^*$. For any candidate $V^*$, it must be such that plugging it in the RHS (right-hand-side) of Bellman equation should give the same $V^*$ again (by the recursive nature of this equation). This property will form the basis of our algorithm. Essentially, due to certain mathematical results, repeated application of RHS to any intial value function $V^0(s)$ will eventually lead to the value $V$ which statifies the Bellman equation. Hence repeated application of Bellman equation for optimal value function will also lead to optimal value function, we can then extract the optimal actions by simply noting the actions that satisfy the equation.    \n\nThe value function is based on the Bellman Equation for optimal value, which we recall here:  \n$$V^*(s) = max_a \\sum_{s'} P_a(s,s') [R_a(s,s') + \\gamma V^*(s')]$$",
   "metadata": {
    "cell_id": "00010-94e5931d-f489-4e4c-826e-8c2b5f029e35",
    "deepnote_cell_type": "markdown"
   }
  },
  {
   "cell_type": "markdown",
   "source": "Example: Below is a 3x3 grid. We are going to walk through a few iterations to firm up your understanding. Lets assume this time that success of taking any action is 0.8. Meaning if we take E from a valid state (x,y), we will go (x+1,y) 0.8 percent of time, but remain in same state the remaining time. We will have a discount factor ($\\gamma$) of 0.9. Assume $V^0(s')=0$ for all s'. \n\n| | | |  \n|----------|----------|---------|  \n|0|0|0|\n|0|10|0|  \n|0|0|0|  \n\n\n**Iteration 1**: It is trivial, V(s) becomes the $max_a \\sum_{s'} P_a(s,s') R_a(s,s')$ since $V^0$ was zero for s'.\n\n| | | |  \n|----------|----------|---------|  \n|0|8|0|\n|8|2|8|  \n|0|8|0|  \n  \n**Iteration 2**:  \n  \nStaring with cell (0,0): We find the expected value of each move:  \nAction N: 0  \nAction E: 0.8( 0 + 0.9 \\* 8) + 0.2(0 + 0.9 \\* 0) = 5.76  \nAction S: 0.8( 0 + 0.9 \\* 8) + 0.2(0 + 0.9 \\* 0) = 5.76  \nAction W: 0\n\nHence any action between E and S would have been best at this stage.\n\nSimilarly for cell (1,0):\n\nAction S: 0.8( 10 + 0.9 \\* 2) + 0.2(0 + 0.9 \\* 8) = 10.88 (Action S is the maximizing action)  \n\nSimilar calculations for remaining cells give us:\n\n| | | |  \n|----------|----------|---------|  \n|5.76|10.88|5.76|\n|10.88|8.12|10.88|  \n|5.76|10.88|5.76|  \n",
   "metadata": {
    "cell_id": "00011-5d1f6b11-d2ad-4ab7-8d2a-3161ee0a0e58",
    "deepnote_cell_type": "markdown"
   }
  },
  {
   "cell_type": "markdown",
   "source": "## Question 2 (2 points)\nPlease code the value iteration algorithm just described here, and show the optimal value function of the above 3x3 grid problem at convergence.",
   "metadata": {
    "cell_id": "00012-3cd72176-2008-43fe-884a-257c96756d29",
    "deepnote_cell_type": "markdown"
   }
  },
  {
   "cell_type": "markdown",
   "source": "## Reinforcement Learning (RL)\nUntil now, we understood that knowing the MDP, specifically $P_a(s,s')$ and $R_a(s,s')$ allows us to efficiently find the optimal policy using value iteration algorithm, but RL or decision making under uncertainity arises from the question of making optimal decisions without knowing the true world model (MDP in this case).\n\nSo far we have defined the value of a state $V^\\pi$, let us define the value of an action, $Q^\\pi$:\n\n$$Q^\\pi(s,a) = \\sum_{s'} P_a(s,s') [R_a(s,s') + \\gamma V^\\pi(s')]$$\n\ni.e, the value of taking action *a* from state *s* and then following $\\pi$ onwards. Similarly, the optimal Q-value equation is:\n\n$$Q^*(s,a) = \\sum_{s'} P_a(s,s') [R_a(s,s') + \\gamma V^*(s')]$$\n\n## Q-learning\n\nQ-learning algorithm can be used by an agent unaware of its surroundings (unknown MDP). All it can do is take an action *a* at time *t* from state *s* and observe the reward *r* and next state *s'*, and repeat this process again. So how it can learn to act optimally under such uninformative conditions ? Answer is using Q-learning. Without going into its justification, we simply state the main-update rule of this algorithm below:\n\n![alt text](https://chalmersuniversity.box.com/shared/static/5anbos4s9luoayb32jk6w3wy3w4jk3g3.png)\n\nWhere we simply maintain Q(s,a) value for each state-action pair in a table. It is proven to converge to the optimal policy of the underlying unknown MDP for certain values of learning rate $\\alpha$. For our case, we set a constant $\\alpha=0.1$.\n\n## OpenAI Gym\n\nWe shall use already available simulators for different environments (world) using the popular OpenAI Gym library. It just implements [differnt types of simulators](https://gym.openai.com/) including ATARI games. Although here we will only focus on simple ones, such as [Chain enviroment](https://gym.openai.com/envs/NChain-v0/).\n![alt text](https://chalmersuniversity.box.com/shared/static/6tthbzhpofq9gzlowhr3w8if0xvyxb2b.jpg)\n\n## Question 3 (0.5 points)\nBasically, there are 5 states, and two actions 'a' and 'b'. Each transition (s,a,s') is noted with its corresponding reward. You are to first familiarize with the framework using its [documentation](http://gym.openai.com/docs/), and then implement the Q-learning algorithm for the Chain enviroment (called 'NChain-v0') using default parameters. Finally print the $Q^*$ table at convergence. Take $\\gamma=0.95$. You can refer to the Q-learning Jupyter notebook shown in class, uploaded on Canvas.\n\n## Question 4 (1 point)\n\na. Verify that the optimal $Q^*$ value obtained using Q-learning is same as the optimal value function $V^*$ for the corresponding MDP's optimal action. You would have to first define the MDP corresponding to Chain enviroment.\n\nb. What is the importance of exploration in RL ? Explain with an example.\n",
   "metadata": {
    "cell_id": "00013-b7cd3fe9-7680-4a51-84f3-fcf6b10f72e3",
    "deepnote_cell_type": "markdown"
   }
  },
  {
   "cell_type": "markdown",
   "source": "## Question 4 (0.5 point)\n\nBriefly discuss the k-armed bandit problem formulation and it's distinguishing feature as a special case of the reinforcement learning problem formulation.",
   "metadata": {
    "cell_id": "00014-973e484c-9b5f-451c-b29a-df230c0d831c",
    "deepnote_cell_type": "markdown"
   }
  },
  {
   "cell_type": "markdown",
   "source": "## Note\n\n* Until now, we have described algorithms for when no. of states and actions are finite. In coming weeks, you will be taught how to extend these methods to continous state enviroments like ATARI games.\n\n# References\nPrimer/text based on the following references:\n* http://www.cse.chalmers.se/~chrdimi/downloads/book.pdf\n* https://github.com/olethrosdc/ml-society-science/blob/master/notes.pdf",
   "metadata": {
    "cell_id": "00015-2bad1cdd-c2f7-43de-aaac-7cd25dcdbe2f",
    "deepnote_cell_type": "markdown"
   }
  },
  {
   "cell_type": "markdown",
   "source": "<a style='text-decoration:none;line-height:16px;display:flex;color:#5B5B62;padding:10px;justify-content:end;' href='https://deepnote.com?utm_source=created-in-deepnote-cell&projectId=ab83f1d1-4f39-4251-b899-1ad25d544179' target=\"_blank\">\n<img alt='Created in deepnote.com' style='display:inline;max-height:16px;margin:0px;margin-right:7.5px;' src='data:image/svg+xml;base64,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' > </img>\nCreated in <span style='font-weight:600;margin-left:4px;'>Deepnote</span></a>",
   "metadata": {
    "tags": [],
    "created_in_deepnote_cell": true,
    "deepnote_cell_type": "markdown"
   }
  }
 ],
 "nbformat": 4,
 "nbformat_minor": 2,
 "metadata": {
  "kernelspec": {
   "display_name": "Python 3",
   "language": "python",
   "name": "python3"
  },
  "language_info": {
   "codemirror_mode": {
    "name": "ipython",
    "version": 3
   },
   "file_extension": ".py",
   "mimetype": "text/x-python",
   "name": "python",
   "nbconvert_exporter": "python",
   "pygments_lexer": "ipython3",
   "version": "3.8.3"
  },
  "deepnote_notebook_id": "e6f19661-9960-43f5-aecb-d95956eda32a",
  "deepnote": {},
  "deepnote_execution_queue": []
 }
}